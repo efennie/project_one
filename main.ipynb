{
 "metadata": {
  "language_info": {
   "codemirror_mode": {
    "name": "ipython",
    "version": 3
   },
   "file_extension": ".py",
   "mimetype": "text/x-python",
   "name": "python",
   "nbconvert_exporter": "python",
   "pygments_lexer": "ipython3",
   "version": "3.8.5"
  },
  "orig_nbformat": 2,
  "kernelspec": {
   "name": "python385jvsc74a57bd0b75be9ad71603c40476c6c8216298ace4da278de65ecdbf5da31753ceef4d599",
   "display_name": "Python 3.8.5 64-bit ('base': conda)"
  }
 },
 "nbformat": 4,
 "nbformat_minor": 2,
 "cells": [
  {
   "cell_type": "code",
   "execution_count": null,
   "metadata": {},
   "outputs": [],
   "source": [
    "#import dependencies\n",
    "import numpy as np\n",
    "import pandas as pd\n",
    "import matplotlib.pyplot as plt"
   ]
  },
  {
   "cell_type": "code",
   "execution_count": null,
   "metadata": {},
   "outputs": [],
   "source": [
    "#read initial csv into a dataframe\n",
    "csv_file = 'Main Avocado Tree (Resources)/avocado-updated-2020.csv'\n",
    "avocado_df = pd.read_csv(csv_file)\n",
    "avocado_df"
   ]
  },
  {
   "cell_type": "code",
   "execution_count": null,
   "metadata": {},
   "outputs": [],
   "source": [
    "#read income csv into a dataframe\n",
    "csv_income = 'Main Avocado Tree (Resources)/income per metropolitan area.csv'\n",
    "income_df = pd.read_csv(csv_income)\n",
    "income_df.head()"
   ]
  },
  {
   "cell_type": "code",
   "execution_count": null,
   "metadata": {},
   "outputs": [],
   "source": [
    "#Rename columns to match those in Avocado\n",
    "rename_income_df = income_df.rename(columns={\"Geography\": \"geography\", \"Year\":\"year\"})\n",
    "rename_income_df.head()"
   ]
  },
  {
   "cell_type": "code",
   "execution_count": null,
   "metadata": {},
   "outputs": [],
   "source": [
    "#Merge the two dataframes together on Geography and year\n",
    "merged_df = pd.merge(avocado_df,rename_income_df, on=['geography', 'year'], how='inner')\n",
    "merged_df"
   ]
  },
  {
   "cell_type": "code",
   "execution_count": null,
   "metadata": {},
   "outputs": [],
   "source": [
    "# Question 1: Which cities love avocados most?\n",
    "\n",
    "#Task 1: popularity of avocado, visual heatmap, 2015 to 2020, bar graph of volume per area "
   ]
  },
  {
   "cell_type": "code",
   "execution_count": null,
   "metadata": {},
   "outputs": [],
   "source": [
    "#Question 2: Do states with higher income per capita buy more avocados? (income per capita from 2017-2019)\n",
    "\n",
    "#Task 2: line graph (x-values states, y-values income per capita and avocado revenue) "
   ]
  },
  {
   "cell_type": "code",
   "execution_count": null,
   "metadata": {},
   "outputs": [],
   "source": [
    "#Question 3: Which type of avocado is the biggest source of revenue for suppliers? \n",
    "\n",
    "#Task 3: Five pie charts by type (value = revenue) for each year on one png "
   ]
  },
  {
   "cell_type": "code",
   "execution_count": null,
   "metadata": {},
   "outputs": [],
   "source": [
    "#Question 4: Is there a time of year that sees a spike in revenue?\n",
    "\n",
    "#Task 4: bar chart (x-values months, y-values avocado revenue)"
   ]
  },
  {
   "cell_type": "code",
   "execution_count": null,
   "metadata": {},
   "outputs": [],
   "source": [
    "#Question 5: How has the average avocado price changed over time?  What is the predicted avocado price for 2021 based on our data?  \n",
    "\n",
    "#Task 5: scatter plot with regression to predict 2021 average price "
   ]
  },
  {
   "cell_type": "code",
   "execution_count": null,
   "metadata": {},
   "outputs": [],
   "source": [
    "#Question 6: Do different types of avocados have different price trends?\n",
    "\n",
    "#Task 6: facet (multiple lines on one) line graph (x-values = year, y-values = average price) for each type"
   ]
  }
 ]
}