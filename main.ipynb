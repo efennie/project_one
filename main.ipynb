{
 "metadata": {
  "language_info": {
   "codemirror_mode": {
    "name": "ipython",
    "version": 3
   },
   "file_extension": ".py",
   "mimetype": "text/x-python",
   "name": "python",
   "nbconvert_exporter": "python",
   "pygments_lexer": "ipython3",
   "version": "3.8.5"
  },
  "orig_nbformat": 2,
  "kernelspec": {
   "name": "python385jvsc74a57bd0e24e1afceeac59cef4f228f547d04fddd71b82b5af8ec9fc8b351df6cdccf2ba",
   "display_name": "Python 3.8.5 64-bit (conda)"
  }
 },
 "nbformat": 4,
 "nbformat_minor": 2,
 "cells": [
  {
   "cell_type": "code",
   "execution_count": 74,
   "metadata": {},
   "outputs": [],
   "source": [
    "#import dependencies\n",
    "import numpy as np\n",
    "import pandas as pd\n",
    "import matplotlib.pyplot as plt"
   ]
  },
  {
   "cell_type": "code",
   "execution_count": 75,
   "metadata": {},
   "outputs": [
    {
     "output_type": "execute_result",
     "data": {
      "text/plain": [
       "             date  average_price  total_volume        4046       4225  \\\n",
       "0      2015-01-04           1.22      40873.28     2819.50   28287.42   \n",
       "1      2015-01-04           1.79       1373.95       57.42     153.88   \n",
       "2      2015-01-04           1.00     435021.49   364302.39   23821.16   \n",
       "3      2015-01-04           1.76       3846.69     1500.15     938.35   \n",
       "4      2015-01-04           1.08     788025.06    53987.31  552906.04   \n",
       "...           ...            ...           ...         ...        ...   \n",
       "33040  2020-11-29           1.47    1583056.27    67544.48   97996.46   \n",
       "33041  2020-11-29           0.91    5811114.22  1352877.53  589061.83   \n",
       "33042  2020-11-29           1.48     289961.27    13273.75   19341.09   \n",
       "33043  2020-11-29           0.67     822818.75   234688.01   80205.15   \n",
       "33044  2020-11-29           1.35      24106.58     1236.96     617.80   \n",
       "\n",
       "           4770  total_bags  small_bags  large_bags  xlarge_bags  \\\n",
       "0         49.90     9716.46     9186.93      529.53         0.00   \n",
       "1          0.00     1162.65     1162.65        0.00         0.00   \n",
       "2         82.15    46815.79    16707.15    30108.64         0.00   \n",
       "3          0.00     1408.19     1071.35      336.84         0.00   \n",
       "4      39995.03   141136.68   137146.07     3990.61         0.00   \n",
       "...         ...         ...         ...         ...          ...   \n",
       "33040   2617.17  1414878.10   906711.52   480191.83     27974.75   \n",
       "33041  19741.90  3790665.29  2197611.02  1531530.14     61524.13   \n",
       "33042    636.51   256709.92   122606.21   134103.71         0.00   \n",
       "33043  10543.63   497381.96   285764.11   210808.02       809.83   \n",
       "33044   1564.98    20686.84    17824.52     2862.32         0.00   \n",
       "\n",
       "               type  year             geography  \n",
       "0      conventional  2015                Albany  \n",
       "1           organic  2015                Albany  \n",
       "2      conventional  2015               Atlanta  \n",
       "3           organic  2015               Atlanta  \n",
       "4      conventional  2015  Baltimore/Washington  \n",
       "...             ...   ...                   ...  \n",
       "33040       organic  2020            Total U.S.  \n",
       "33041  conventional  2020                  West  \n",
       "33042       organic  2020                  West  \n",
       "33043  conventional  2020   West Tex/New Mexico  \n",
       "33044       organic  2020   West Tex/New Mexico  \n",
       "\n",
       "[33045 rows x 13 columns]"
      ],
      "text/html": "<div>\n<style scoped>\n    .dataframe tbody tr th:only-of-type {\n        vertical-align: middle;\n    }\n\n    .dataframe tbody tr th {\n        vertical-align: top;\n    }\n\n    .dataframe thead th {\n        text-align: right;\n    }\n</style>\n<table border=\"1\" class=\"dataframe\">\n  <thead>\n    <tr style=\"text-align: right;\">\n      <th></th>\n      <th>date</th>\n      <th>average_price</th>\n      <th>total_volume</th>\n      <th>4046</th>\n      <th>4225</th>\n      <th>4770</th>\n      <th>total_bags</th>\n      <th>small_bags</th>\n      <th>large_bags</th>\n      <th>xlarge_bags</th>\n      <th>type</th>\n      <th>year</th>\n      <th>geography</th>\n    </tr>\n  </thead>\n  <tbody>\n    <tr>\n      <th>0</th>\n      <td>2015-01-04</td>\n      <td>1.22</td>\n      <td>40873.28</td>\n      <td>2819.50</td>\n      <td>28287.42</td>\n      <td>49.90</td>\n      <td>9716.46</td>\n      <td>9186.93</td>\n      <td>529.53</td>\n      <td>0.00</td>\n      <td>conventional</td>\n      <td>2015</td>\n      <td>Albany</td>\n    </tr>\n    <tr>\n      <th>1</th>\n      <td>2015-01-04</td>\n      <td>1.79</td>\n      <td>1373.95</td>\n      <td>57.42</td>\n      <td>153.88</td>\n      <td>0.00</td>\n      <td>1162.65</td>\n      <td>1162.65</td>\n      <td>0.00</td>\n      <td>0.00</td>\n      <td>organic</td>\n      <td>2015</td>\n      <td>Albany</td>\n    </tr>\n    <tr>\n      <th>2</th>\n      <td>2015-01-04</td>\n      <td>1.00</td>\n      <td>435021.49</td>\n      <td>364302.39</td>\n      <td>23821.16</td>\n      <td>82.15</td>\n      <td>46815.79</td>\n      <td>16707.15</td>\n      <td>30108.64</td>\n      <td>0.00</td>\n      <td>conventional</td>\n      <td>2015</td>\n      <td>Atlanta</td>\n    </tr>\n    <tr>\n      <th>3</th>\n      <td>2015-01-04</td>\n      <td>1.76</td>\n      <td>3846.69</td>\n      <td>1500.15</td>\n      <td>938.35</td>\n      <td>0.00</td>\n      <td>1408.19</td>\n      <td>1071.35</td>\n      <td>336.84</td>\n      <td>0.00</td>\n      <td>organic</td>\n      <td>2015</td>\n      <td>Atlanta</td>\n    </tr>\n    <tr>\n      <th>4</th>\n      <td>2015-01-04</td>\n      <td>1.08</td>\n      <td>788025.06</td>\n      <td>53987.31</td>\n      <td>552906.04</td>\n      <td>39995.03</td>\n      <td>141136.68</td>\n      <td>137146.07</td>\n      <td>3990.61</td>\n      <td>0.00</td>\n      <td>conventional</td>\n      <td>2015</td>\n      <td>Baltimore/Washington</td>\n    </tr>\n    <tr>\n      <th>...</th>\n      <td>...</td>\n      <td>...</td>\n      <td>...</td>\n      <td>...</td>\n      <td>...</td>\n      <td>...</td>\n      <td>...</td>\n      <td>...</td>\n      <td>...</td>\n      <td>...</td>\n      <td>...</td>\n      <td>...</td>\n      <td>...</td>\n    </tr>\n    <tr>\n      <th>33040</th>\n      <td>2020-11-29</td>\n      <td>1.47</td>\n      <td>1583056.27</td>\n      <td>67544.48</td>\n      <td>97996.46</td>\n      <td>2617.17</td>\n      <td>1414878.10</td>\n      <td>906711.52</td>\n      <td>480191.83</td>\n      <td>27974.75</td>\n      <td>organic</td>\n      <td>2020</td>\n      <td>Total U.S.</td>\n    </tr>\n    <tr>\n      <th>33041</th>\n      <td>2020-11-29</td>\n      <td>0.91</td>\n      <td>5811114.22</td>\n      <td>1352877.53</td>\n      <td>589061.83</td>\n      <td>19741.90</td>\n      <td>3790665.29</td>\n      <td>2197611.02</td>\n      <td>1531530.14</td>\n      <td>61524.13</td>\n      <td>conventional</td>\n      <td>2020</td>\n      <td>West</td>\n    </tr>\n    <tr>\n      <th>33042</th>\n      <td>2020-11-29</td>\n      <td>1.48</td>\n      <td>289961.27</td>\n      <td>13273.75</td>\n      <td>19341.09</td>\n      <td>636.51</td>\n      <td>256709.92</td>\n      <td>122606.21</td>\n      <td>134103.71</td>\n      <td>0.00</td>\n      <td>organic</td>\n      <td>2020</td>\n      <td>West</td>\n    </tr>\n    <tr>\n      <th>33043</th>\n      <td>2020-11-29</td>\n      <td>0.67</td>\n      <td>822818.75</td>\n      <td>234688.01</td>\n      <td>80205.15</td>\n      <td>10543.63</td>\n      <td>497381.96</td>\n      <td>285764.11</td>\n      <td>210808.02</td>\n      <td>809.83</td>\n      <td>conventional</td>\n      <td>2020</td>\n      <td>West Tex/New Mexico</td>\n    </tr>\n    <tr>\n      <th>33044</th>\n      <td>2020-11-29</td>\n      <td>1.35</td>\n      <td>24106.58</td>\n      <td>1236.96</td>\n      <td>617.80</td>\n      <td>1564.98</td>\n      <td>20686.84</td>\n      <td>17824.52</td>\n      <td>2862.32</td>\n      <td>0.00</td>\n      <td>organic</td>\n      <td>2020</td>\n      <td>West Tex/New Mexico</td>\n    </tr>\n  </tbody>\n</table>\n<p>33045 rows × 13 columns</p>\n</div>"
     },
     "metadata": {},
     "execution_count": 75
    }
   ],
   "source": [
    "#read initial csv into a dataframe\n",
    "csv_file = 'Main Avocado Tree (Resources)/avocado-updated-2020.csv'\n",
    "avocado_df = pd.read_csv(csv_file)\n",
    "avocado_df"
   ]
  },
  {
   "cell_type": "code",
   "execution_count": 76,
   "metadata": {},
   "outputs": [
    {
     "output_type": "execute_result",
     "data": {
      "text/plain": [
       "                 Geography State  Year  Per capita personal income\n",
       "0                  Abilene    TX  2017                       40876\n",
       "1                    Akron    OH  2017                       47522\n",
       "2                   Albany    GA  2017                       36780\n",
       "3           Albany-Lebanon    OR  2017                       41169\n",
       "4  Albany-Schenectady-Troy    NY  2017                       56487"
      ],
      "text/html": "<div>\n<style scoped>\n    .dataframe tbody tr th:only-of-type {\n        vertical-align: middle;\n    }\n\n    .dataframe tbody tr th {\n        vertical-align: top;\n    }\n\n    .dataframe thead th {\n        text-align: right;\n    }\n</style>\n<table border=\"1\" class=\"dataframe\">\n  <thead>\n    <tr style=\"text-align: right;\">\n      <th></th>\n      <th>Geography</th>\n      <th>State</th>\n      <th>Year</th>\n      <th>Per capita personal income</th>\n    </tr>\n  </thead>\n  <tbody>\n    <tr>\n      <th>0</th>\n      <td>Abilene</td>\n      <td>TX</td>\n      <td>2017</td>\n      <td>40876</td>\n    </tr>\n    <tr>\n      <th>1</th>\n      <td>Akron</td>\n      <td>OH</td>\n      <td>2017</td>\n      <td>47522</td>\n    </tr>\n    <tr>\n      <th>2</th>\n      <td>Albany</td>\n      <td>GA</td>\n      <td>2017</td>\n      <td>36780</td>\n    </tr>\n    <tr>\n      <th>3</th>\n      <td>Albany-Lebanon</td>\n      <td>OR</td>\n      <td>2017</td>\n      <td>41169</td>\n    </tr>\n    <tr>\n      <th>4</th>\n      <td>Albany-Schenectady-Troy</td>\n      <td>NY</td>\n      <td>2017</td>\n      <td>56487</td>\n    </tr>\n  </tbody>\n</table>\n</div>"
     },
     "metadata": {},
     "execution_count": 76
    }
   ],
   "source": [
    "#read income csv into a dataframe\n",
    "csv_income = 'Main Avocado Tree (Resources)/income per metropolitan area.csv'\n",
    "income_df = pd.read_csv(csv_income)\n",
    "income_df.head()"
   ]
  },
  {
   "cell_type": "code",
   "execution_count": 77,
   "metadata": {},
   "outputs": [
    {
     "output_type": "execute_result",
     "data": {
      "text/plain": [
       "                 geography State  year  Per capita personal income\n",
       "0                  Abilene    TX  2017                       40876\n",
       "1                    Akron    OH  2017                       47522\n",
       "2                   Albany    GA  2017                       36780\n",
       "3           Albany-Lebanon    OR  2017                       41169\n",
       "4  Albany-Schenectady-Troy    NY  2017                       56487"
      ],
      "text/html": "<div>\n<style scoped>\n    .dataframe tbody tr th:only-of-type {\n        vertical-align: middle;\n    }\n\n    .dataframe tbody tr th {\n        vertical-align: top;\n    }\n\n    .dataframe thead th {\n        text-align: right;\n    }\n</style>\n<table border=\"1\" class=\"dataframe\">\n  <thead>\n    <tr style=\"text-align: right;\">\n      <th></th>\n      <th>geography</th>\n      <th>State</th>\n      <th>year</th>\n      <th>Per capita personal income</th>\n    </tr>\n  </thead>\n  <tbody>\n    <tr>\n      <th>0</th>\n      <td>Abilene</td>\n      <td>TX</td>\n      <td>2017</td>\n      <td>40876</td>\n    </tr>\n    <tr>\n      <th>1</th>\n      <td>Akron</td>\n      <td>OH</td>\n      <td>2017</td>\n      <td>47522</td>\n    </tr>\n    <tr>\n      <th>2</th>\n      <td>Albany</td>\n      <td>GA</td>\n      <td>2017</td>\n      <td>36780</td>\n    </tr>\n    <tr>\n      <th>3</th>\n      <td>Albany-Lebanon</td>\n      <td>OR</td>\n      <td>2017</td>\n      <td>41169</td>\n    </tr>\n    <tr>\n      <th>4</th>\n      <td>Albany-Schenectady-Troy</td>\n      <td>NY</td>\n      <td>2017</td>\n      <td>56487</td>\n    </tr>\n  </tbody>\n</table>\n</div>"
     },
     "metadata": {},
     "execution_count": 77
    }
   ],
   "source": [
    "#Rename columns to match those in Avocado\n",
    "rename_income_df = income_df.rename(columns={\"Geography\": \"geography\", \"Year\":\"year\"})\n",
    "rename_income_df.head()"
   ]
  },
  {
   "cell_type": "code",
   "execution_count": 78,
   "metadata": {},
   "outputs": [
    {
     "output_type": "execute_result",
     "data": {
      "text/plain": [
       "            date  average_price  total_volume     4046       4225    4770  \\\n",
       "0     2017-01-01           1.47     129948.23  4845.77  117027.41  200.36   \n",
       "1     2017-01-01           1.87       1376.70    71.65     192.63    0.00   \n",
       "2     2017-01-08           1.55      91728.18  3355.47   75641.23   56.91   \n",
       "3     2017-01-08           1.94       2229.52    63.46     478.31    0.00   \n",
       "4     2017-01-15           1.55      88526.26  3327.65   71956.77  607.03   \n",
       "...          ...            ...           ...      ...        ...     ...   \n",
       "3075  2019-12-15           1.34       3895.70   253.86     130.50    0.00   \n",
       "3076  2019-12-22           1.09      75058.95  3277.09   42043.81   50.00   \n",
       "3077  2019-12-22           1.58       2610.75   124.88      72.44    0.00   \n",
       "3078  2019-12-29           1.12      67860.40  2800.47   39432.09   51.00   \n",
       "3079  2019-12-29           1.32       2658.63   127.03     143.60    0.00   \n",
       "\n",
       "      total_bags  small_bags  large_bags  xlarge_bags          type  year  \\\n",
       "0        7874.69     7866.86        7.83         0.00  conventional  2017   \n",
       "1        1112.42     1112.42        0.00         0.00       organic  2017   \n",
       "2       12674.57    12606.67       67.90         0.00  conventional  2017   \n",
       "3        1687.75     1687.75        0.00         0.00       organic  2017   \n",
       "4       12634.81    12574.72       60.09         0.00  conventional  2017   \n",
       "...          ...         ...         ...          ...           ...   ...   \n",
       "3075     3511.34     1161.84     2349.50         0.00       organic  2019   \n",
       "3076    29688.05     9821.50    18648.77      1217.78  conventional  2019   \n",
       "3077     2413.43     1181.44     1231.99         0.00       organic  2019   \n",
       "3078    25576.84     6601.50    17943.11      1032.23  conventional  2019   \n",
       "3079     2388.00      754.14     1633.86         0.00       organic  2019   \n",
       "\n",
       "     geography State  Per capita personal income  \n",
       "0       Albany    GA                       36780  \n",
       "1       Albany    GA                       36780  \n",
       "2       Albany    GA                       36780  \n",
       "3       Albany    GA                       36780  \n",
       "4       Albany    GA                       36780  \n",
       "...        ...   ...                         ...  \n",
       "3075  Syracuse    NY                       52051  \n",
       "3076  Syracuse    NY                       52051  \n",
       "3077  Syracuse    NY                       52051  \n",
       "3078  Syracuse    NY                       52051  \n",
       "3079  Syracuse    NY                       52051  \n",
       "\n",
       "[3080 rows x 15 columns]"
      ],
      "text/html": "<div>\n<style scoped>\n    .dataframe tbody tr th:only-of-type {\n        vertical-align: middle;\n    }\n\n    .dataframe tbody tr th {\n        vertical-align: top;\n    }\n\n    .dataframe thead th {\n        text-align: right;\n    }\n</style>\n<table border=\"1\" class=\"dataframe\">\n  <thead>\n    <tr style=\"text-align: right;\">\n      <th></th>\n      <th>date</th>\n      <th>average_price</th>\n      <th>total_volume</th>\n      <th>4046</th>\n      <th>4225</th>\n      <th>4770</th>\n      <th>total_bags</th>\n      <th>small_bags</th>\n      <th>large_bags</th>\n      <th>xlarge_bags</th>\n      <th>type</th>\n      <th>year</th>\n      <th>geography</th>\n      <th>State</th>\n      <th>Per capita personal income</th>\n    </tr>\n  </thead>\n  <tbody>\n    <tr>\n      <th>0</th>\n      <td>2017-01-01</td>\n      <td>1.47</td>\n      <td>129948.23</td>\n      <td>4845.77</td>\n      <td>117027.41</td>\n      <td>200.36</td>\n      <td>7874.69</td>\n      <td>7866.86</td>\n      <td>7.83</td>\n      <td>0.00</td>\n      <td>conventional</td>\n      <td>2017</td>\n      <td>Albany</td>\n      <td>GA</td>\n      <td>36780</td>\n    </tr>\n    <tr>\n      <th>1</th>\n      <td>2017-01-01</td>\n      <td>1.87</td>\n      <td>1376.70</td>\n      <td>71.65</td>\n      <td>192.63</td>\n      <td>0.00</td>\n      <td>1112.42</td>\n      <td>1112.42</td>\n      <td>0.00</td>\n      <td>0.00</td>\n      <td>organic</td>\n      <td>2017</td>\n      <td>Albany</td>\n      <td>GA</td>\n      <td>36780</td>\n    </tr>\n    <tr>\n      <th>2</th>\n      <td>2017-01-08</td>\n      <td>1.55</td>\n      <td>91728.18</td>\n      <td>3355.47</td>\n      <td>75641.23</td>\n      <td>56.91</td>\n      <td>12674.57</td>\n      <td>12606.67</td>\n      <td>67.90</td>\n      <td>0.00</td>\n      <td>conventional</td>\n      <td>2017</td>\n      <td>Albany</td>\n      <td>GA</td>\n      <td>36780</td>\n    </tr>\n    <tr>\n      <th>3</th>\n      <td>2017-01-08</td>\n      <td>1.94</td>\n      <td>2229.52</td>\n      <td>63.46</td>\n      <td>478.31</td>\n      <td>0.00</td>\n      <td>1687.75</td>\n      <td>1687.75</td>\n      <td>0.00</td>\n      <td>0.00</td>\n      <td>organic</td>\n      <td>2017</td>\n      <td>Albany</td>\n      <td>GA</td>\n      <td>36780</td>\n    </tr>\n    <tr>\n      <th>4</th>\n      <td>2017-01-15</td>\n      <td>1.55</td>\n      <td>88526.26</td>\n      <td>3327.65</td>\n      <td>71956.77</td>\n      <td>607.03</td>\n      <td>12634.81</td>\n      <td>12574.72</td>\n      <td>60.09</td>\n      <td>0.00</td>\n      <td>conventional</td>\n      <td>2017</td>\n      <td>Albany</td>\n      <td>GA</td>\n      <td>36780</td>\n    </tr>\n    <tr>\n      <th>...</th>\n      <td>...</td>\n      <td>...</td>\n      <td>...</td>\n      <td>...</td>\n      <td>...</td>\n      <td>...</td>\n      <td>...</td>\n      <td>...</td>\n      <td>...</td>\n      <td>...</td>\n      <td>...</td>\n      <td>...</td>\n      <td>...</td>\n      <td>...</td>\n      <td>...</td>\n    </tr>\n    <tr>\n      <th>3075</th>\n      <td>2019-12-15</td>\n      <td>1.34</td>\n      <td>3895.70</td>\n      <td>253.86</td>\n      <td>130.50</td>\n      <td>0.00</td>\n      <td>3511.34</td>\n      <td>1161.84</td>\n      <td>2349.50</td>\n      <td>0.00</td>\n      <td>organic</td>\n      <td>2019</td>\n      <td>Syracuse</td>\n      <td>NY</td>\n      <td>52051</td>\n    </tr>\n    <tr>\n      <th>3076</th>\n      <td>2019-12-22</td>\n      <td>1.09</td>\n      <td>75058.95</td>\n      <td>3277.09</td>\n      <td>42043.81</td>\n      <td>50.00</td>\n      <td>29688.05</td>\n      <td>9821.50</td>\n      <td>18648.77</td>\n      <td>1217.78</td>\n      <td>conventional</td>\n      <td>2019</td>\n      <td>Syracuse</td>\n      <td>NY</td>\n      <td>52051</td>\n    </tr>\n    <tr>\n      <th>3077</th>\n      <td>2019-12-22</td>\n      <td>1.58</td>\n      <td>2610.75</td>\n      <td>124.88</td>\n      <td>72.44</td>\n      <td>0.00</td>\n      <td>2413.43</td>\n      <td>1181.44</td>\n      <td>1231.99</td>\n      <td>0.00</td>\n      <td>organic</td>\n      <td>2019</td>\n      <td>Syracuse</td>\n      <td>NY</td>\n      <td>52051</td>\n    </tr>\n    <tr>\n      <th>3078</th>\n      <td>2019-12-29</td>\n      <td>1.12</td>\n      <td>67860.40</td>\n      <td>2800.47</td>\n      <td>39432.09</td>\n      <td>51.00</td>\n      <td>25576.84</td>\n      <td>6601.50</td>\n      <td>17943.11</td>\n      <td>1032.23</td>\n      <td>conventional</td>\n      <td>2019</td>\n      <td>Syracuse</td>\n      <td>NY</td>\n      <td>52051</td>\n    </tr>\n    <tr>\n      <th>3079</th>\n      <td>2019-12-29</td>\n      <td>1.32</td>\n      <td>2658.63</td>\n      <td>127.03</td>\n      <td>143.60</td>\n      <td>0.00</td>\n      <td>2388.00</td>\n      <td>754.14</td>\n      <td>1633.86</td>\n      <td>0.00</td>\n      <td>organic</td>\n      <td>2019</td>\n      <td>Syracuse</td>\n      <td>NY</td>\n      <td>52051</td>\n    </tr>\n  </tbody>\n</table>\n<p>3080 rows × 15 columns</p>\n</div>"
     },
     "metadata": {},
     "execution_count": 78
    }
   ],
   "source": [
    "#Merge the two dataframes together on Geography and year\n",
    "merged_df = pd.merge(avocado_df,rename_income_df, on=['geography', 'year'], how='inner')\n",
    "merged_df"
   ]
  },
  {
   "cell_type": "code",
   "execution_count": 79,
   "metadata": {},
   "outputs": [
    {
     "output_type": "execute_result",
     "data": {
      "text/plain": [
       "            date  average_price  total_volume     4046       4225    4770  \\\n",
       "0     2017-01-01           1.47     129948.23  4845.77  117027.41  200.36   \n",
       "1     2017-01-01           1.87       1376.70    71.65     192.63    0.00   \n",
       "2     2017-01-08           1.55      91728.18  3355.47   75641.23   56.91   \n",
       "3     2017-01-08           1.94       2229.52    63.46     478.31    0.00   \n",
       "4     2017-01-15           1.55      88526.26  3327.65   71956.77  607.03   \n",
       "...          ...            ...           ...      ...        ...     ...   \n",
       "3075  2019-12-15           1.34       3895.70   253.86     130.50    0.00   \n",
       "3076  2019-12-22           1.09      75058.95  3277.09   42043.81   50.00   \n",
       "3077  2019-12-22           1.58       2610.75   124.88      72.44    0.00   \n",
       "3078  2019-12-29           1.12      67860.40  2800.47   39432.09   51.00   \n",
       "3079  2019-12-29           1.32       2658.63   127.03     143.60    0.00   \n",
       "\n",
       "      total_bags  small_bags  large_bags  xlarge_bags          type  year  \\\n",
       "0        7874.69     7866.86        7.83         0.00  conventional  2017   \n",
       "1        1112.42     1112.42        0.00         0.00       organic  2017   \n",
       "2       12674.57    12606.67       67.90         0.00  conventional  2017   \n",
       "3        1687.75     1687.75        0.00         0.00       organic  2017   \n",
       "4       12634.81    12574.72       60.09         0.00  conventional  2017   \n",
       "...          ...         ...         ...          ...           ...   ...   \n",
       "3075     3511.34     1161.84     2349.50         0.00       organic  2019   \n",
       "3076    29688.05     9821.50    18648.77      1217.78  conventional  2019   \n",
       "3077     2413.43     1181.44     1231.99         0.00       organic  2019   \n",
       "3078    25576.84     6601.50    17943.11      1032.23  conventional  2019   \n",
       "3079     2388.00      754.14     1633.86         0.00       organic  2019   \n",
       "\n",
       "     geography State  Per capita personal income Split-0 Split-1 Split-2  \n",
       "0       Albany    GA                       36780    2017      01      01  \n",
       "1       Albany    GA                       36780    2017      01      01  \n",
       "2       Albany    GA                       36780    2017      01      08  \n",
       "3       Albany    GA                       36780    2017      01      08  \n",
       "4       Albany    GA                       36780    2017      01      15  \n",
       "...        ...   ...                         ...     ...     ...     ...  \n",
       "3075  Syracuse    NY                       52051    2019      12      15  \n",
       "3076  Syracuse    NY                       52051    2019      12      22  \n",
       "3077  Syracuse    NY                       52051    2019      12      22  \n",
       "3078  Syracuse    NY                       52051    2019      12      29  \n",
       "3079  Syracuse    NY                       52051    2019      12      29  \n",
       "\n",
       "[3080 rows x 18 columns]"
      ],
      "text/html": "<div>\n<style scoped>\n    .dataframe tbody tr th:only-of-type {\n        vertical-align: middle;\n    }\n\n    .dataframe tbody tr th {\n        vertical-align: top;\n    }\n\n    .dataframe thead th {\n        text-align: right;\n    }\n</style>\n<table border=\"1\" class=\"dataframe\">\n  <thead>\n    <tr style=\"text-align: right;\">\n      <th></th>\n      <th>date</th>\n      <th>average_price</th>\n      <th>total_volume</th>\n      <th>4046</th>\n      <th>4225</th>\n      <th>4770</th>\n      <th>total_bags</th>\n      <th>small_bags</th>\n      <th>large_bags</th>\n      <th>xlarge_bags</th>\n      <th>type</th>\n      <th>year</th>\n      <th>geography</th>\n      <th>State</th>\n      <th>Per capita personal income</th>\n      <th>Split-0</th>\n      <th>Split-1</th>\n      <th>Split-2</th>\n    </tr>\n  </thead>\n  <tbody>\n    <tr>\n      <th>0</th>\n      <td>2017-01-01</td>\n      <td>1.47</td>\n      <td>129948.23</td>\n      <td>4845.77</td>\n      <td>117027.41</td>\n      <td>200.36</td>\n      <td>7874.69</td>\n      <td>7866.86</td>\n      <td>7.83</td>\n      <td>0.00</td>\n      <td>conventional</td>\n      <td>2017</td>\n      <td>Albany</td>\n      <td>GA</td>\n      <td>36780</td>\n      <td>2017</td>\n      <td>01</td>\n      <td>01</td>\n    </tr>\n    <tr>\n      <th>1</th>\n      <td>2017-01-01</td>\n      <td>1.87</td>\n      <td>1376.70</td>\n      <td>71.65</td>\n      <td>192.63</td>\n      <td>0.00</td>\n      <td>1112.42</td>\n      <td>1112.42</td>\n      <td>0.00</td>\n      <td>0.00</td>\n      <td>organic</td>\n      <td>2017</td>\n      <td>Albany</td>\n      <td>GA</td>\n      <td>36780</td>\n      <td>2017</td>\n      <td>01</td>\n      <td>01</td>\n    </tr>\n    <tr>\n      <th>2</th>\n      <td>2017-01-08</td>\n      <td>1.55</td>\n      <td>91728.18</td>\n      <td>3355.47</td>\n      <td>75641.23</td>\n      <td>56.91</td>\n      <td>12674.57</td>\n      <td>12606.67</td>\n      <td>67.90</td>\n      <td>0.00</td>\n      <td>conventional</td>\n      <td>2017</td>\n      <td>Albany</td>\n      <td>GA</td>\n      <td>36780</td>\n      <td>2017</td>\n      <td>01</td>\n      <td>08</td>\n    </tr>\n    <tr>\n      <th>3</th>\n      <td>2017-01-08</td>\n      <td>1.94</td>\n      <td>2229.52</td>\n      <td>63.46</td>\n      <td>478.31</td>\n      <td>0.00</td>\n      <td>1687.75</td>\n      <td>1687.75</td>\n      <td>0.00</td>\n      <td>0.00</td>\n      <td>organic</td>\n      <td>2017</td>\n      <td>Albany</td>\n      <td>GA</td>\n      <td>36780</td>\n      <td>2017</td>\n      <td>01</td>\n      <td>08</td>\n    </tr>\n    <tr>\n      <th>4</th>\n      <td>2017-01-15</td>\n      <td>1.55</td>\n      <td>88526.26</td>\n      <td>3327.65</td>\n      <td>71956.77</td>\n      <td>607.03</td>\n      <td>12634.81</td>\n      <td>12574.72</td>\n      <td>60.09</td>\n      <td>0.00</td>\n      <td>conventional</td>\n      <td>2017</td>\n      <td>Albany</td>\n      <td>GA</td>\n      <td>36780</td>\n      <td>2017</td>\n      <td>01</td>\n      <td>15</td>\n    </tr>\n    <tr>\n      <th>...</th>\n      <td>...</td>\n      <td>...</td>\n      <td>...</td>\n      <td>...</td>\n      <td>...</td>\n      <td>...</td>\n      <td>...</td>\n      <td>...</td>\n      <td>...</td>\n      <td>...</td>\n      <td>...</td>\n      <td>...</td>\n      <td>...</td>\n      <td>...</td>\n      <td>...</td>\n      <td>...</td>\n      <td>...</td>\n      <td>...</td>\n    </tr>\n    <tr>\n      <th>3075</th>\n      <td>2019-12-15</td>\n      <td>1.34</td>\n      <td>3895.70</td>\n      <td>253.86</td>\n      <td>130.50</td>\n      <td>0.00</td>\n      <td>3511.34</td>\n      <td>1161.84</td>\n      <td>2349.50</td>\n      <td>0.00</td>\n      <td>organic</td>\n      <td>2019</td>\n      <td>Syracuse</td>\n      <td>NY</td>\n      <td>52051</td>\n      <td>2019</td>\n      <td>12</td>\n      <td>15</td>\n    </tr>\n    <tr>\n      <th>3076</th>\n      <td>2019-12-22</td>\n      <td>1.09</td>\n      <td>75058.95</td>\n      <td>3277.09</td>\n      <td>42043.81</td>\n      <td>50.00</td>\n      <td>29688.05</td>\n      <td>9821.50</td>\n      <td>18648.77</td>\n      <td>1217.78</td>\n      <td>conventional</td>\n      <td>2019</td>\n      <td>Syracuse</td>\n      <td>NY</td>\n      <td>52051</td>\n      <td>2019</td>\n      <td>12</td>\n      <td>22</td>\n    </tr>\n    <tr>\n      <th>3077</th>\n      <td>2019-12-22</td>\n      <td>1.58</td>\n      <td>2610.75</td>\n      <td>124.88</td>\n      <td>72.44</td>\n      <td>0.00</td>\n      <td>2413.43</td>\n      <td>1181.44</td>\n      <td>1231.99</td>\n      <td>0.00</td>\n      <td>organic</td>\n      <td>2019</td>\n      <td>Syracuse</td>\n      <td>NY</td>\n      <td>52051</td>\n      <td>2019</td>\n      <td>12</td>\n      <td>22</td>\n    </tr>\n    <tr>\n      <th>3078</th>\n      <td>2019-12-29</td>\n      <td>1.12</td>\n      <td>67860.40</td>\n      <td>2800.47</td>\n      <td>39432.09</td>\n      <td>51.00</td>\n      <td>25576.84</td>\n      <td>6601.50</td>\n      <td>17943.11</td>\n      <td>1032.23</td>\n      <td>conventional</td>\n      <td>2019</td>\n      <td>Syracuse</td>\n      <td>NY</td>\n      <td>52051</td>\n      <td>2019</td>\n      <td>12</td>\n      <td>29</td>\n    </tr>\n    <tr>\n      <th>3079</th>\n      <td>2019-12-29</td>\n      <td>1.32</td>\n      <td>2658.63</td>\n      <td>127.03</td>\n      <td>143.60</td>\n      <td>0.00</td>\n      <td>2388.00</td>\n      <td>754.14</td>\n      <td>1633.86</td>\n      <td>0.00</td>\n      <td>organic</td>\n      <td>2019</td>\n      <td>Syracuse</td>\n      <td>NY</td>\n      <td>52051</td>\n      <td>2019</td>\n      <td>12</td>\n      <td>29</td>\n    </tr>\n  </tbody>\n</table>\n<p>3080 rows × 18 columns</p>\n</div>"
     },
     "metadata": {},
     "execution_count": 79
    }
   ],
   "source": [
    "#Changing Date to ONLY reflect the month\n",
    "split_cols = merged_df['date'].str.split('-',expand=True)\n",
    "split_cols.columns = [f'Split-{i}' for i in range(3)]\n",
    "new_merge = merged_df.join(split_cols)\n",
    "new_merge"
   ]
  },
  {
   "cell_type": "code",
   "execution_count": 80,
   "metadata": {},
   "outputs": [
    {
     "output_type": "execute_result",
     "data": {
      "text/plain": [
       "  month  year    city  average_price  total_volume  \\\n",
       "0    01  2017  Albany           1.47     129948.23   \n",
       "1    01  2017  Albany           1.87       1376.70   \n",
       "2    01  2017  Albany           1.55      91728.18   \n",
       "3    01  2017  Albany           1.94       2229.52   \n",
       "4    01  2017  Albany           1.55      88526.26   \n",
       "\n",
       "   Per capita personal income     4046       4225    4770          type  \n",
       "0                       36780  4845.77  117027.41  200.36  conventional  \n",
       "1                       36780    71.65     192.63    0.00       organic  \n",
       "2                       36780  3355.47   75641.23   56.91  conventional  \n",
       "3                       36780    63.46     478.31    0.00       organic  \n",
       "4                       36780  3327.65   71956.77  607.03  conventional  "
      ],
      "text/html": "<div>\n<style scoped>\n    .dataframe tbody tr th:only-of-type {\n        vertical-align: middle;\n    }\n\n    .dataframe tbody tr th {\n        vertical-align: top;\n    }\n\n    .dataframe thead th {\n        text-align: right;\n    }\n</style>\n<table border=\"1\" class=\"dataframe\">\n  <thead>\n    <tr style=\"text-align: right;\">\n      <th></th>\n      <th>month</th>\n      <th>year</th>\n      <th>city</th>\n      <th>average_price</th>\n      <th>total_volume</th>\n      <th>Per capita personal income</th>\n      <th>4046</th>\n      <th>4225</th>\n      <th>4770</th>\n      <th>type</th>\n    </tr>\n  </thead>\n  <tbody>\n    <tr>\n      <th>0</th>\n      <td>01</td>\n      <td>2017</td>\n      <td>Albany</td>\n      <td>1.47</td>\n      <td>129948.23</td>\n      <td>36780</td>\n      <td>4845.77</td>\n      <td>117027.41</td>\n      <td>200.36</td>\n      <td>conventional</td>\n    </tr>\n    <tr>\n      <th>1</th>\n      <td>01</td>\n      <td>2017</td>\n      <td>Albany</td>\n      <td>1.87</td>\n      <td>1376.70</td>\n      <td>36780</td>\n      <td>71.65</td>\n      <td>192.63</td>\n      <td>0.00</td>\n      <td>organic</td>\n    </tr>\n    <tr>\n      <th>2</th>\n      <td>01</td>\n      <td>2017</td>\n      <td>Albany</td>\n      <td>1.55</td>\n      <td>91728.18</td>\n      <td>36780</td>\n      <td>3355.47</td>\n      <td>75641.23</td>\n      <td>56.91</td>\n      <td>conventional</td>\n    </tr>\n    <tr>\n      <th>3</th>\n      <td>01</td>\n      <td>2017</td>\n      <td>Albany</td>\n      <td>1.94</td>\n      <td>2229.52</td>\n      <td>36780</td>\n      <td>63.46</td>\n      <td>478.31</td>\n      <td>0.00</td>\n      <td>organic</td>\n    </tr>\n    <tr>\n      <th>4</th>\n      <td>01</td>\n      <td>2017</td>\n      <td>Albany</td>\n      <td>1.55</td>\n      <td>88526.26</td>\n      <td>36780</td>\n      <td>3327.65</td>\n      <td>71956.77</td>\n      <td>607.03</td>\n      <td>conventional</td>\n    </tr>\n  </tbody>\n</table>\n</div>"
     },
     "metadata": {},
     "execution_count": 80
    }
   ],
   "source": [
    "#make it pretty\n",
    "renamed_merge = new_merge.rename(columns={'Split-1':'month', 'geography':'city'})\n",
    "clean_merge = renamed_merge[['month', 'year', 'city', 'average_price', 'total_volume','Per capita personal income', '4046', '4225', '4770', 'type']]\n",
    "clean_merge.head()"
   ]
  },
  {
   "cell_type": "code",
   "execution_count": 81,
   "metadata": {},
   "outputs": [],
   "source": [
    "# Question 1: Which cities love avocados most?\n",
    "\n",
    "#Task 1: popularity of avocado, visual heatmap, 2015 to 2020, bar graph of volume per area "
   ]
  },
  {
   "cell_type": "code",
   "execution_count": 82,
   "metadata": {},
   "outputs": [],
   "source": [
    "#Question 2: Do states with higher income per capita buy more avocados? (income per capita from 2017-2019)\n",
    "\n",
    "#Task 2: line graph (x-values states, y-values income per capita and avocado revenue) "
   ]
  },
  {
   "cell_type": "code",
   "execution_count": 94,
   "metadata": {},
   "outputs": [
    {
     "output_type": "execute_result",
     "data": {
      "text/plain": [
       "array(['Albany', 'Columbus', 'Jacksonville', 'Pittsburgh', 'Roanoke',\n",
       "       'St. Louis', 'Syracuse'], dtype=object)"
      ]
     },
     "metadata": {},
     "execution_count": 94
    }
   ],
   "source": [
    "#Question 3: Which type of avocado is the biggest source of revenue for suppliers? Erica\n",
    "#Include Day (Split-2) column\n",
    "revenue_df = renamed_merge.rename(columns={'Split-2':'day'})\n",
    "revenue_df = revenue_df[['day','month', 'year', 'city', 'average_price', 'total_volume','Per capita personal income', '4046', '4225', '4770', 'type']]\n",
    "cities = revenue_df['city'].unique()\n",
    "cities\n",
    "#Task 3: Five pie charts by type (value = revenue) for each year on one png "
   ]
  },
  {
   "cell_type": "code",
   "execution_count": 84,
   "metadata": {},
   "outputs": [],
   "source": [
    "#Question 4: Is there a time of year that sees a spike in revenue? Erica\n",
    "\n",
    "#Task 4: bar chart (x-values months, y-values avocado revenue)"
   ]
  },
  {
   "cell_type": "code",
   "execution_count": 85,
   "metadata": {},
   "outputs": [],
   "source": [
    "#Question 5: How has the average avocado price changed over time?  What is the predicted avocado price for 2021 based on our data?  Bitty\n",
    "\n",
    "#Task 5: scatter plot with regression to predict 2021 average price "
   ]
  },
  {
   "cell_type": "code",
   "execution_count": 86,
   "metadata": {},
   "outputs": [],
   "source": [
    "#Question 6: Do different types of avocados have different price trends? Arianne\n",
    "\n",
    "#Task 6: facet (multiple lines on one) line graph (x-values = year, y-values = average price) for each type"
   ]
  },
  {
   "cell_type": "code",
   "execution_count": 87,
   "metadata": {},
   "outputs": [],
   "source": [
    "#look at volume for 4046\n",
    "plot_4046 = [['4046','year','average_price']]\n"
   ]
  },
  {
   "cell_type": "code",
   "execution_count": 88,
   "metadata": {},
   "outputs": [],
   "source": [
    "#look at volume for 4225\n",
    "plot_4225= [['4225', 'year', 'average_price']]"
   ]
  },
  {
   "cell_type": "code",
   "execution_count": 89,
   "metadata": {},
   "outputs": [],
   "source": [
    "#Look at Volume for 4770\n",
    "plot_4770 = [['4770', 'year', 'average_price']]\n"
   ]
  }
 ]
}