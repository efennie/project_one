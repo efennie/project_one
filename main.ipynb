{
 "metadata": {
  "language_info": {
   "codemirror_mode": {
    "name": "ipython",
    "version": 3
   },
   "file_extension": ".py",
   "mimetype": "text/x-python",
   "name": "python",
   "nbconvert_exporter": "python",
   "pygments_lexer": "ipython3",
   "version": "3.8.5"
  },
  "orig_nbformat": 2,
  "kernelspec": {
   "name": "python385jvsc74a57bd0e24e1afceeac59cef4f228f547d04fddd71b82b5af8ec9fc8b351df6cdccf2ba",
   "display_name": "Python 3.8.5 64-bit (conda)"
  }
 },
 "nbformat": 4,
 "nbformat_minor": 2,
 "cells": [
  {
   "cell_type": "code",
   "execution_count": 31,
   "metadata": {},
   "outputs": [],
   "source": [
    "#import dependencies\n",
    "import numpy as np\n",
    "import pandas as pd\n",
    "import matplotlib.pyplot as plt"
   ]
  },
  {
   "cell_type": "code",
   "execution_count": 32,
   "metadata": {},
   "outputs": [
    {
     "output_type": "execute_result",
     "data": {
      "text/plain": [
       "             date  average_price  total_volume        4046       4225  \\\n",
       "0      2015-01-04           1.22      40873.28     2819.50   28287.42   \n",
       "1      2015-01-04           1.79       1373.95       57.42     153.88   \n",
       "2      2015-01-04           1.00     435021.49   364302.39   23821.16   \n",
       "3      2015-01-04           1.76       3846.69     1500.15     938.35   \n",
       "4      2015-01-04           1.08     788025.06    53987.31  552906.04   \n",
       "...           ...            ...           ...         ...        ...   \n",
       "33040  2020-11-29           1.47    1583056.27    67544.48   97996.46   \n",
       "33041  2020-11-29           0.91    5811114.22  1352877.53  589061.83   \n",
       "33042  2020-11-29           1.48     289961.27    13273.75   19341.09   \n",
       "33043  2020-11-29           0.67     822818.75   234688.01   80205.15   \n",
       "33044  2020-11-29           1.35      24106.58     1236.96     617.80   \n",
       "\n",
       "           4770  total_bags  small_bags  large_bags  xlarge_bags  \\\n",
       "0         49.90     9716.46     9186.93      529.53         0.00   \n",
       "1          0.00     1162.65     1162.65        0.00         0.00   \n",
       "2         82.15    46815.79    16707.15    30108.64         0.00   \n",
       "3          0.00     1408.19     1071.35      336.84         0.00   \n",
       "4      39995.03   141136.68   137146.07     3990.61         0.00   \n",
       "...         ...         ...         ...         ...          ...   \n",
       "33040   2617.17  1414878.10   906711.52   480191.83     27974.75   \n",
       "33041  19741.90  3790665.29  2197611.02  1531530.14     61524.13   \n",
       "33042    636.51   256709.92   122606.21   134103.71         0.00   \n",
       "33043  10543.63   497381.96   285764.11   210808.02       809.83   \n",
       "33044   1564.98    20686.84    17824.52     2862.32         0.00   \n",
       "\n",
       "               type  year             geography  \n",
       "0      conventional  2015                Albany  \n",
       "1           organic  2015                Albany  \n",
       "2      conventional  2015               Atlanta  \n",
       "3           organic  2015               Atlanta  \n",
       "4      conventional  2015  Baltimore/Washington  \n",
       "...             ...   ...                   ...  \n",
       "33040       organic  2020            Total U.S.  \n",
       "33041  conventional  2020                  West  \n",
       "33042       organic  2020                  West  \n",
       "33043  conventional  2020   West Tex/New Mexico  \n",
       "33044       organic  2020   West Tex/New Mexico  \n",
       "\n",
       "[33045 rows x 13 columns]"
      ],
      "text/html": "<div>\n<style scoped>\n    .dataframe tbody tr th:only-of-type {\n        vertical-align: middle;\n    }\n\n    .dataframe tbody tr th {\n        vertical-align: top;\n    }\n\n    .dataframe thead th {\n        text-align: right;\n    }\n</style>\n<table border=\"1\" class=\"dataframe\">\n  <thead>\n    <tr style=\"text-align: right;\">\n      <th></th>\n      <th>date</th>\n      <th>average_price</th>\n      <th>total_volume</th>\n      <th>4046</th>\n      <th>4225</th>\n      <th>4770</th>\n      <th>total_bags</th>\n      <th>small_bags</th>\n      <th>large_bags</th>\n      <th>xlarge_bags</th>\n      <th>type</th>\n      <th>year</th>\n      <th>geography</th>\n    </tr>\n  </thead>\n  <tbody>\n    <tr>\n      <th>0</th>\n      <td>2015-01-04</td>\n      <td>1.22</td>\n      <td>40873.28</td>\n      <td>2819.50</td>\n      <td>28287.42</td>\n      <td>49.90</td>\n      <td>9716.46</td>\n      <td>9186.93</td>\n      <td>529.53</td>\n      <td>0.00</td>\n      <td>conventional</td>\n      <td>2015</td>\n      <td>Albany</td>\n    </tr>\n    <tr>\n      <th>1</th>\n      <td>2015-01-04</td>\n      <td>1.79</td>\n      <td>1373.95</td>\n      <td>57.42</td>\n      <td>153.88</td>\n      <td>0.00</td>\n      <td>1162.65</td>\n      <td>1162.65</td>\n      <td>0.00</td>\n      <td>0.00</td>\n      <td>organic</td>\n      <td>2015</td>\n      <td>Albany</td>\n    </tr>\n    <tr>\n      <th>2</th>\n      <td>2015-01-04</td>\n      <td>1.00</td>\n      <td>435021.49</td>\n      <td>364302.39</td>\n      <td>23821.16</td>\n      <td>82.15</td>\n      <td>46815.79</td>\n      <td>16707.15</td>\n      <td>30108.64</td>\n      <td>0.00</td>\n      <td>conventional</td>\n      <td>2015</td>\n      <td>Atlanta</td>\n    </tr>\n    <tr>\n      <th>3</th>\n      <td>2015-01-04</td>\n      <td>1.76</td>\n      <td>3846.69</td>\n      <td>1500.15</td>\n      <td>938.35</td>\n      <td>0.00</td>\n      <td>1408.19</td>\n      <td>1071.35</td>\n      <td>336.84</td>\n      <td>0.00</td>\n      <td>organic</td>\n      <td>2015</td>\n      <td>Atlanta</td>\n    </tr>\n    <tr>\n      <th>4</th>\n      <td>2015-01-04</td>\n      <td>1.08</td>\n      <td>788025.06</td>\n      <td>53987.31</td>\n      <td>552906.04</td>\n      <td>39995.03</td>\n      <td>141136.68</td>\n      <td>137146.07</td>\n      <td>3990.61</td>\n      <td>0.00</td>\n      <td>conventional</td>\n      <td>2015</td>\n      <td>Baltimore/Washington</td>\n    </tr>\n    <tr>\n      <th>...</th>\n      <td>...</td>\n      <td>...</td>\n      <td>...</td>\n      <td>...</td>\n      <td>...</td>\n      <td>...</td>\n      <td>...</td>\n      <td>...</td>\n      <td>...</td>\n      <td>...</td>\n      <td>...</td>\n      <td>...</td>\n      <td>...</td>\n    </tr>\n    <tr>\n      <th>33040</th>\n      <td>2020-11-29</td>\n      <td>1.47</td>\n      <td>1583056.27</td>\n      <td>67544.48</td>\n      <td>97996.46</td>\n      <td>2617.17</td>\n      <td>1414878.10</td>\n      <td>906711.52</td>\n      <td>480191.83</td>\n      <td>27974.75</td>\n      <td>organic</td>\n      <td>2020</td>\n      <td>Total U.S.</td>\n    </tr>\n    <tr>\n      <th>33041</th>\n      <td>2020-11-29</td>\n      <td>0.91</td>\n      <td>5811114.22</td>\n      <td>1352877.53</td>\n      <td>589061.83</td>\n      <td>19741.90</td>\n      <td>3790665.29</td>\n      <td>2197611.02</td>\n      <td>1531530.14</td>\n      <td>61524.13</td>\n      <td>conventional</td>\n      <td>2020</td>\n      <td>West</td>\n    </tr>\n    <tr>\n      <th>33042</th>\n      <td>2020-11-29</td>\n      <td>1.48</td>\n      <td>289961.27</td>\n      <td>13273.75</td>\n      <td>19341.09</td>\n      <td>636.51</td>\n      <td>256709.92</td>\n      <td>122606.21</td>\n      <td>134103.71</td>\n      <td>0.00</td>\n      <td>organic</td>\n      <td>2020</td>\n      <td>West</td>\n    </tr>\n    <tr>\n      <th>33043</th>\n      <td>2020-11-29</td>\n      <td>0.67</td>\n      <td>822818.75</td>\n      <td>234688.01</td>\n      <td>80205.15</td>\n      <td>10543.63</td>\n      <td>497381.96</td>\n      <td>285764.11</td>\n      <td>210808.02</td>\n      <td>809.83</td>\n      <td>conventional</td>\n      <td>2020</td>\n      <td>West Tex/New Mexico</td>\n    </tr>\n    <tr>\n      <th>33044</th>\n      <td>2020-11-29</td>\n      <td>1.35</td>\n      <td>24106.58</td>\n      <td>1236.96</td>\n      <td>617.80</td>\n      <td>1564.98</td>\n      <td>20686.84</td>\n      <td>17824.52</td>\n      <td>2862.32</td>\n      <td>0.00</td>\n      <td>organic</td>\n      <td>2020</td>\n      <td>West Tex/New Mexico</td>\n    </tr>\n  </tbody>\n</table>\n<p>33045 rows × 13 columns</p>\n</div>"
     },
     "metadata": {},
     "execution_count": 32
    }
   ],
   "source": [
    "#read initial csv into a dataframe\n",
    "csv_file = 'Main Avocado Tree (Resources)/avocado-updated-2020.csv'\n",
    "avocado_df = pd.read_csv(csv_file)\n",
    "avocado_df"
   ]
  },
  {
   "cell_type": "code",
   "execution_count": 33,
   "metadata": {},
   "outputs": [
    {
     "output_type": "execute_result",
     "data": {
      "text/plain": [
       "                 Geography State  Year  Per capita personal income\n",
       "0                  Abilene    TX  2017                       40876\n",
       "1                    Akron    OH  2017                       47522\n",
       "2                   Albany    GA  2017                       36780\n",
       "3           Albany-Lebanon    OR  2017                       41169\n",
       "4  Albany-Schenectady-Troy    NY  2017                       56487"
      ],
      "text/html": "<div>\n<style scoped>\n    .dataframe tbody tr th:only-of-type {\n        vertical-align: middle;\n    }\n\n    .dataframe tbody tr th {\n        vertical-align: top;\n    }\n\n    .dataframe thead th {\n        text-align: right;\n    }\n</style>\n<table border=\"1\" class=\"dataframe\">\n  <thead>\n    <tr style=\"text-align: right;\">\n      <th></th>\n      <th>Geography</th>\n      <th>State</th>\n      <th>Year</th>\n      <th>Per capita personal income</th>\n    </tr>\n  </thead>\n  <tbody>\n    <tr>\n      <th>0</th>\n      <td>Abilene</td>\n      <td>TX</td>\n      <td>2017</td>\n      <td>40876</td>\n    </tr>\n    <tr>\n      <th>1</th>\n      <td>Akron</td>\n      <td>OH</td>\n      <td>2017</td>\n      <td>47522</td>\n    </tr>\n    <tr>\n      <th>2</th>\n      <td>Albany</td>\n      <td>GA</td>\n      <td>2017</td>\n      <td>36780</td>\n    </tr>\n    <tr>\n      <th>3</th>\n      <td>Albany-Lebanon</td>\n      <td>OR</td>\n      <td>2017</td>\n      <td>41169</td>\n    </tr>\n    <tr>\n      <th>4</th>\n      <td>Albany-Schenectady-Troy</td>\n      <td>NY</td>\n      <td>2017</td>\n      <td>56487</td>\n    </tr>\n  </tbody>\n</table>\n</div>"
     },
     "metadata": {},
     "execution_count": 33
    }
   ],
   "source": [
    "#read income csv into a dataframe\n",
    "csv_income = 'Main Avocado Tree (Resources)/income per metropolitan area.csv'\n",
    "income_df = pd.read_csv(csv_income)\n",
    "income_df.head()"
   ]
  },
  {
   "cell_type": "code",
   "execution_count": 34,
   "metadata": {},
   "outputs": [
    {
     "output_type": "execute_result",
     "data": {
      "text/plain": [
       "                 geography State  year  Per capita personal income\n",
       "0                  Abilene    TX  2017                       40876\n",
       "1                    Akron    OH  2017                       47522\n",
       "2                   Albany    GA  2017                       36780\n",
       "3           Albany-Lebanon    OR  2017                       41169\n",
       "4  Albany-Schenectady-Troy    NY  2017                       56487"
      ],
      "text/html": "<div>\n<style scoped>\n    .dataframe tbody tr th:only-of-type {\n        vertical-align: middle;\n    }\n\n    .dataframe tbody tr th {\n        vertical-align: top;\n    }\n\n    .dataframe thead th {\n        text-align: right;\n    }\n</style>\n<table border=\"1\" class=\"dataframe\">\n  <thead>\n    <tr style=\"text-align: right;\">\n      <th></th>\n      <th>geography</th>\n      <th>State</th>\n      <th>year</th>\n      <th>Per capita personal income</th>\n    </tr>\n  </thead>\n  <tbody>\n    <tr>\n      <th>0</th>\n      <td>Abilene</td>\n      <td>TX</td>\n      <td>2017</td>\n      <td>40876</td>\n    </tr>\n    <tr>\n      <th>1</th>\n      <td>Akron</td>\n      <td>OH</td>\n      <td>2017</td>\n      <td>47522</td>\n    </tr>\n    <tr>\n      <th>2</th>\n      <td>Albany</td>\n      <td>GA</td>\n      <td>2017</td>\n      <td>36780</td>\n    </tr>\n    <tr>\n      <th>3</th>\n      <td>Albany-Lebanon</td>\n      <td>OR</td>\n      <td>2017</td>\n      <td>41169</td>\n    </tr>\n    <tr>\n      <th>4</th>\n      <td>Albany-Schenectady-Troy</td>\n      <td>NY</td>\n      <td>2017</td>\n      <td>56487</td>\n    </tr>\n  </tbody>\n</table>\n</div>"
     },
     "metadata": {},
     "execution_count": 34
    }
   ],
   "source": [
    "#Rename columns to match those in Avocado\n",
    "rename_income_df = income_df.rename(columns={\"Geography\": \"geography\", \"Year\":\"year\"})\n",
    "rename_income_df.head()"
   ]
  },
  {
   "cell_type": "code",
   "execution_count": 35,
   "metadata": {},
   "outputs": [
    {
     "output_type": "execute_result",
     "data": {
      "text/plain": [
       "            date  average_price  total_volume     4046       4225    4770  \\\n",
       "0     2017-01-01           1.47     129948.23  4845.77  117027.41  200.36   \n",
       "1     2017-01-01           1.87       1376.70    71.65     192.63    0.00   \n",
       "2     2017-01-08           1.55      91728.18  3355.47   75641.23   56.91   \n",
       "3     2017-01-08           1.94       2229.52    63.46     478.31    0.00   \n",
       "4     2017-01-15           1.55      88526.26  3327.65   71956.77  607.03   \n",
       "...          ...            ...           ...      ...        ...     ...   \n",
       "3075  2019-12-15           1.34       3895.70   253.86     130.50    0.00   \n",
       "3076  2019-12-22           1.09      75058.95  3277.09   42043.81   50.00   \n",
       "3077  2019-12-22           1.58       2610.75   124.88      72.44    0.00   \n",
       "3078  2019-12-29           1.12      67860.40  2800.47   39432.09   51.00   \n",
       "3079  2019-12-29           1.32       2658.63   127.03     143.60    0.00   \n",
       "\n",
       "      total_bags  small_bags  large_bags  xlarge_bags          type  year  \\\n",
       "0        7874.69     7866.86        7.83         0.00  conventional  2017   \n",
       "1        1112.42     1112.42        0.00         0.00       organic  2017   \n",
       "2       12674.57    12606.67       67.90         0.00  conventional  2017   \n",
       "3        1687.75     1687.75        0.00         0.00       organic  2017   \n",
       "4       12634.81    12574.72       60.09         0.00  conventional  2017   \n",
       "...          ...         ...         ...          ...           ...   ...   \n",
       "3075     3511.34     1161.84     2349.50         0.00       organic  2019   \n",
       "3076    29688.05     9821.50    18648.77      1217.78  conventional  2019   \n",
       "3077     2413.43     1181.44     1231.99         0.00       organic  2019   \n",
       "3078    25576.84     6601.50    17943.11      1032.23  conventional  2019   \n",
       "3079     2388.00      754.14     1633.86         0.00       organic  2019   \n",
       "\n",
       "     geography State  Per capita personal income  \n",
       "0       Albany    GA                       36780  \n",
       "1       Albany    GA                       36780  \n",
       "2       Albany    GA                       36780  \n",
       "3       Albany    GA                       36780  \n",
       "4       Albany    GA                       36780  \n",
       "...        ...   ...                         ...  \n",
       "3075  Syracuse    NY                       52051  \n",
       "3076  Syracuse    NY                       52051  \n",
       "3077  Syracuse    NY                       52051  \n",
       "3078  Syracuse    NY                       52051  \n",
       "3079  Syracuse    NY                       52051  \n",
       "\n",
       "[3080 rows x 15 columns]"
      ],
      "text/html": "<div>\n<style scoped>\n    .dataframe tbody tr th:only-of-type {\n        vertical-align: middle;\n    }\n\n    .dataframe tbody tr th {\n        vertical-align: top;\n    }\n\n    .dataframe thead th {\n        text-align: right;\n    }\n</style>\n<table border=\"1\" class=\"dataframe\">\n  <thead>\n    <tr style=\"text-align: right;\">\n      <th></th>\n      <th>date</th>\n      <th>average_price</th>\n      <th>total_volume</th>\n      <th>4046</th>\n      <th>4225</th>\n      <th>4770</th>\n      <th>total_bags</th>\n      <th>small_bags</th>\n      <th>large_bags</th>\n      <th>xlarge_bags</th>\n      <th>type</th>\n      <th>year</th>\n      <th>geography</th>\n      <th>State</th>\n      <th>Per capita personal income</th>\n    </tr>\n  </thead>\n  <tbody>\n    <tr>\n      <th>0</th>\n      <td>2017-01-01</td>\n      <td>1.47</td>\n      <td>129948.23</td>\n      <td>4845.77</td>\n      <td>117027.41</td>\n      <td>200.36</td>\n      <td>7874.69</td>\n      <td>7866.86</td>\n      <td>7.83</td>\n      <td>0.00</td>\n      <td>conventional</td>\n      <td>2017</td>\n      <td>Albany</td>\n      <td>GA</td>\n      <td>36780</td>\n    </tr>\n    <tr>\n      <th>1</th>\n      <td>2017-01-01</td>\n      <td>1.87</td>\n      <td>1376.70</td>\n      <td>71.65</td>\n      <td>192.63</td>\n      <td>0.00</td>\n      <td>1112.42</td>\n      <td>1112.42</td>\n      <td>0.00</td>\n      <td>0.00</td>\n      <td>organic</td>\n      <td>2017</td>\n      <td>Albany</td>\n      <td>GA</td>\n      <td>36780</td>\n    </tr>\n    <tr>\n      <th>2</th>\n      <td>2017-01-08</td>\n      <td>1.55</td>\n      <td>91728.18</td>\n      <td>3355.47</td>\n      <td>75641.23</td>\n      <td>56.91</td>\n      <td>12674.57</td>\n      <td>12606.67</td>\n      <td>67.90</td>\n      <td>0.00</td>\n      <td>conventional</td>\n      <td>2017</td>\n      <td>Albany</td>\n      <td>GA</td>\n      <td>36780</td>\n    </tr>\n    <tr>\n      <th>3</th>\n      <td>2017-01-08</td>\n      <td>1.94</td>\n      <td>2229.52</td>\n      <td>63.46</td>\n      <td>478.31</td>\n      <td>0.00</td>\n      <td>1687.75</td>\n      <td>1687.75</td>\n      <td>0.00</td>\n      <td>0.00</td>\n      <td>organic</td>\n      <td>2017</td>\n      <td>Albany</td>\n      <td>GA</td>\n      <td>36780</td>\n    </tr>\n    <tr>\n      <th>4</th>\n      <td>2017-01-15</td>\n      <td>1.55</td>\n      <td>88526.26</td>\n      <td>3327.65</td>\n      <td>71956.77</td>\n      <td>607.03</td>\n      <td>12634.81</td>\n      <td>12574.72</td>\n      <td>60.09</td>\n      <td>0.00</td>\n      <td>conventional</td>\n      <td>2017</td>\n      <td>Albany</td>\n      <td>GA</td>\n      <td>36780</td>\n    </tr>\n    <tr>\n      <th>...</th>\n      <td>...</td>\n      <td>...</td>\n      <td>...</td>\n      <td>...</td>\n      <td>...</td>\n      <td>...</td>\n      <td>...</td>\n      <td>...</td>\n      <td>...</td>\n      <td>...</td>\n      <td>...</td>\n      <td>...</td>\n      <td>...</td>\n      <td>...</td>\n      <td>...</td>\n    </tr>\n    <tr>\n      <th>3075</th>\n      <td>2019-12-15</td>\n      <td>1.34</td>\n      <td>3895.70</td>\n      <td>253.86</td>\n      <td>130.50</td>\n      <td>0.00</td>\n      <td>3511.34</td>\n      <td>1161.84</td>\n      <td>2349.50</td>\n      <td>0.00</td>\n      <td>organic</td>\n      <td>2019</td>\n      <td>Syracuse</td>\n      <td>NY</td>\n      <td>52051</td>\n    </tr>\n    <tr>\n      <th>3076</th>\n      <td>2019-12-22</td>\n      <td>1.09</td>\n      <td>75058.95</td>\n      <td>3277.09</td>\n      <td>42043.81</td>\n      <td>50.00</td>\n      <td>29688.05</td>\n      <td>9821.50</td>\n      <td>18648.77</td>\n      <td>1217.78</td>\n      <td>conventional</td>\n      <td>2019</td>\n      <td>Syracuse</td>\n      <td>NY</td>\n      <td>52051</td>\n    </tr>\n    <tr>\n      <th>3077</th>\n      <td>2019-12-22</td>\n      <td>1.58</td>\n      <td>2610.75</td>\n      <td>124.88</td>\n      <td>72.44</td>\n      <td>0.00</td>\n      <td>2413.43</td>\n      <td>1181.44</td>\n      <td>1231.99</td>\n      <td>0.00</td>\n      <td>organic</td>\n      <td>2019</td>\n      <td>Syracuse</td>\n      <td>NY</td>\n      <td>52051</td>\n    </tr>\n    <tr>\n      <th>3078</th>\n      <td>2019-12-29</td>\n      <td>1.12</td>\n      <td>67860.40</td>\n      <td>2800.47</td>\n      <td>39432.09</td>\n      <td>51.00</td>\n      <td>25576.84</td>\n      <td>6601.50</td>\n      <td>17943.11</td>\n      <td>1032.23</td>\n      <td>conventional</td>\n      <td>2019</td>\n      <td>Syracuse</td>\n      <td>NY</td>\n      <td>52051</td>\n    </tr>\n    <tr>\n      <th>3079</th>\n      <td>2019-12-29</td>\n      <td>1.32</td>\n      <td>2658.63</td>\n      <td>127.03</td>\n      <td>143.60</td>\n      <td>0.00</td>\n      <td>2388.00</td>\n      <td>754.14</td>\n      <td>1633.86</td>\n      <td>0.00</td>\n      <td>organic</td>\n      <td>2019</td>\n      <td>Syracuse</td>\n      <td>NY</td>\n      <td>52051</td>\n    </tr>\n  </tbody>\n</table>\n<p>3080 rows × 15 columns</p>\n</div>"
     },
     "metadata": {},
     "execution_count": 35
    }
   ],
   "source": [
    "#Merge the two dataframes together on Geography and year\n",
    "merged_df = pd.merge(avocado_df,rename_income_df, on=['geography', 'year'], how='inner')\n",
    "merged_df"
   ]
  },
  {
   "cell_type": "code",
   "execution_count": 36,
   "metadata": {},
   "outputs": [
    {
     "output_type": "execute_result",
     "data": {
      "text/plain": [
       "            date  average_price  total_volume     4046       4225    4770  \\\n",
       "0     2017-01-01           1.47     129948.23  4845.77  117027.41  200.36   \n",
       "1     2017-01-01           1.87       1376.70    71.65     192.63    0.00   \n",
       "2     2017-01-08           1.55      91728.18  3355.47   75641.23   56.91   \n",
       "3     2017-01-08           1.94       2229.52    63.46     478.31    0.00   \n",
       "4     2017-01-15           1.55      88526.26  3327.65   71956.77  607.03   \n",
       "...          ...            ...           ...      ...        ...     ...   \n",
       "3075  2019-12-15           1.34       3895.70   253.86     130.50    0.00   \n",
       "3076  2019-12-22           1.09      75058.95  3277.09   42043.81   50.00   \n",
       "3077  2019-12-22           1.58       2610.75   124.88      72.44    0.00   \n",
       "3078  2019-12-29           1.12      67860.40  2800.47   39432.09   51.00   \n",
       "3079  2019-12-29           1.32       2658.63   127.03     143.60    0.00   \n",
       "\n",
       "      total_bags  small_bags  large_bags  xlarge_bags          type  year  \\\n",
       "0        7874.69     7866.86        7.83         0.00  conventional  2017   \n",
       "1        1112.42     1112.42        0.00         0.00       organic  2017   \n",
       "2       12674.57    12606.67       67.90         0.00  conventional  2017   \n",
       "3        1687.75     1687.75        0.00         0.00       organic  2017   \n",
       "4       12634.81    12574.72       60.09         0.00  conventional  2017   \n",
       "...          ...         ...         ...          ...           ...   ...   \n",
       "3075     3511.34     1161.84     2349.50         0.00       organic  2019   \n",
       "3076    29688.05     9821.50    18648.77      1217.78  conventional  2019   \n",
       "3077     2413.43     1181.44     1231.99         0.00       organic  2019   \n",
       "3078    25576.84     6601.50    17943.11      1032.23  conventional  2019   \n",
       "3079     2388.00      754.14     1633.86         0.00       organic  2019   \n",
       "\n",
       "     geography State  Per capita personal income Split-0 Split-1 Split-2  \n",
       "0       Albany    GA                       36780    2017      01      01  \n",
       "1       Albany    GA                       36780    2017      01      01  \n",
       "2       Albany    GA                       36780    2017      01      08  \n",
       "3       Albany    GA                       36780    2017      01      08  \n",
       "4       Albany    GA                       36780    2017      01      15  \n",
       "...        ...   ...                         ...     ...     ...     ...  \n",
       "3075  Syracuse    NY                       52051    2019      12      15  \n",
       "3076  Syracuse    NY                       52051    2019      12      22  \n",
       "3077  Syracuse    NY                       52051    2019      12      22  \n",
       "3078  Syracuse    NY                       52051    2019      12      29  \n",
       "3079  Syracuse    NY                       52051    2019      12      29  \n",
       "\n",
       "[3080 rows x 18 columns]"
      ],
      "text/html": "<div>\n<style scoped>\n    .dataframe tbody tr th:only-of-type {\n        vertical-align: middle;\n    }\n\n    .dataframe tbody tr th {\n        vertical-align: top;\n    }\n\n    .dataframe thead th {\n        text-align: right;\n    }\n</style>\n<table border=\"1\" class=\"dataframe\">\n  <thead>\n    <tr style=\"text-align: right;\">\n      <th></th>\n      <th>date</th>\n      <th>average_price</th>\n      <th>total_volume</th>\n      <th>4046</th>\n      <th>4225</th>\n      <th>4770</th>\n      <th>total_bags</th>\n      <th>small_bags</th>\n      <th>large_bags</th>\n      <th>xlarge_bags</th>\n      <th>type</th>\n      <th>year</th>\n      <th>geography</th>\n      <th>State</th>\n      <th>Per capita personal income</th>\n      <th>Split-0</th>\n      <th>Split-1</th>\n      <th>Split-2</th>\n    </tr>\n  </thead>\n  <tbody>\n    <tr>\n      <th>0</th>\n      <td>2017-01-01</td>\n      <td>1.47</td>\n      <td>129948.23</td>\n      <td>4845.77</td>\n      <td>117027.41</td>\n      <td>200.36</td>\n      <td>7874.69</td>\n      <td>7866.86</td>\n      <td>7.83</td>\n      <td>0.00</td>\n      <td>conventional</td>\n      <td>2017</td>\n      <td>Albany</td>\n      <td>GA</td>\n      <td>36780</td>\n      <td>2017</td>\n      <td>01</td>\n      <td>01</td>\n    </tr>\n    <tr>\n      <th>1</th>\n      <td>2017-01-01</td>\n      <td>1.87</td>\n      <td>1376.70</td>\n      <td>71.65</td>\n      <td>192.63</td>\n      <td>0.00</td>\n      <td>1112.42</td>\n      <td>1112.42</td>\n      <td>0.00</td>\n      <td>0.00</td>\n      <td>organic</td>\n      <td>2017</td>\n      <td>Albany</td>\n      <td>GA</td>\n      <td>36780</td>\n      <td>2017</td>\n      <td>01</td>\n      <td>01</td>\n    </tr>\n    <tr>\n      <th>2</th>\n      <td>2017-01-08</td>\n      <td>1.55</td>\n      <td>91728.18</td>\n      <td>3355.47</td>\n      <td>75641.23</td>\n      <td>56.91</td>\n      <td>12674.57</td>\n      <td>12606.67</td>\n      <td>67.90</td>\n      <td>0.00</td>\n      <td>conventional</td>\n      <td>2017</td>\n      <td>Albany</td>\n      <td>GA</td>\n      <td>36780</td>\n      <td>2017</td>\n      <td>01</td>\n      <td>08</td>\n    </tr>\n    <tr>\n      <th>3</th>\n      <td>2017-01-08</td>\n      <td>1.94</td>\n      <td>2229.52</td>\n      <td>63.46</td>\n      <td>478.31</td>\n      <td>0.00</td>\n      <td>1687.75</td>\n      <td>1687.75</td>\n      <td>0.00</td>\n      <td>0.00</td>\n      <td>organic</td>\n      <td>2017</td>\n      <td>Albany</td>\n      <td>GA</td>\n      <td>36780</td>\n      <td>2017</td>\n      <td>01</td>\n      <td>08</td>\n    </tr>\n    <tr>\n      <th>4</th>\n      <td>2017-01-15</td>\n      <td>1.55</td>\n      <td>88526.26</td>\n      <td>3327.65</td>\n      <td>71956.77</td>\n      <td>607.03</td>\n      <td>12634.81</td>\n      <td>12574.72</td>\n      <td>60.09</td>\n      <td>0.00</td>\n      <td>conventional</td>\n      <td>2017</td>\n      <td>Albany</td>\n      <td>GA</td>\n      <td>36780</td>\n      <td>2017</td>\n      <td>01</td>\n      <td>15</td>\n    </tr>\n    <tr>\n      <th>...</th>\n      <td>...</td>\n      <td>...</td>\n      <td>...</td>\n      <td>...</td>\n      <td>...</td>\n      <td>...</td>\n      <td>...</td>\n      <td>...</td>\n      <td>...</td>\n      <td>...</td>\n      <td>...</td>\n      <td>...</td>\n      <td>...</td>\n      <td>...</td>\n      <td>...</td>\n      <td>...</td>\n      <td>...</td>\n      <td>...</td>\n    </tr>\n    <tr>\n      <th>3075</th>\n      <td>2019-12-15</td>\n      <td>1.34</td>\n      <td>3895.70</td>\n      <td>253.86</td>\n      <td>130.50</td>\n      <td>0.00</td>\n      <td>3511.34</td>\n      <td>1161.84</td>\n      <td>2349.50</td>\n      <td>0.00</td>\n      <td>organic</td>\n      <td>2019</td>\n      <td>Syracuse</td>\n      <td>NY</td>\n      <td>52051</td>\n      <td>2019</td>\n      <td>12</td>\n      <td>15</td>\n    </tr>\n    <tr>\n      <th>3076</th>\n      <td>2019-12-22</td>\n      <td>1.09</td>\n      <td>75058.95</td>\n      <td>3277.09</td>\n      <td>42043.81</td>\n      <td>50.00</td>\n      <td>29688.05</td>\n      <td>9821.50</td>\n      <td>18648.77</td>\n      <td>1217.78</td>\n      <td>conventional</td>\n      <td>2019</td>\n      <td>Syracuse</td>\n      <td>NY</td>\n      <td>52051</td>\n      <td>2019</td>\n      <td>12</td>\n      <td>22</td>\n    </tr>\n    <tr>\n      <th>3077</th>\n      <td>2019-12-22</td>\n      <td>1.58</td>\n      <td>2610.75</td>\n      <td>124.88</td>\n      <td>72.44</td>\n      <td>0.00</td>\n      <td>2413.43</td>\n      <td>1181.44</td>\n      <td>1231.99</td>\n      <td>0.00</td>\n      <td>organic</td>\n      <td>2019</td>\n      <td>Syracuse</td>\n      <td>NY</td>\n      <td>52051</td>\n      <td>2019</td>\n      <td>12</td>\n      <td>22</td>\n    </tr>\n    <tr>\n      <th>3078</th>\n      <td>2019-12-29</td>\n      <td>1.12</td>\n      <td>67860.40</td>\n      <td>2800.47</td>\n      <td>39432.09</td>\n      <td>51.00</td>\n      <td>25576.84</td>\n      <td>6601.50</td>\n      <td>17943.11</td>\n      <td>1032.23</td>\n      <td>conventional</td>\n      <td>2019</td>\n      <td>Syracuse</td>\n      <td>NY</td>\n      <td>52051</td>\n      <td>2019</td>\n      <td>12</td>\n      <td>29</td>\n    </tr>\n    <tr>\n      <th>3079</th>\n      <td>2019-12-29</td>\n      <td>1.32</td>\n      <td>2658.63</td>\n      <td>127.03</td>\n      <td>143.60</td>\n      <td>0.00</td>\n      <td>2388.00</td>\n      <td>754.14</td>\n      <td>1633.86</td>\n      <td>0.00</td>\n      <td>organic</td>\n      <td>2019</td>\n      <td>Syracuse</td>\n      <td>NY</td>\n      <td>52051</td>\n      <td>2019</td>\n      <td>12</td>\n      <td>29</td>\n    </tr>\n  </tbody>\n</table>\n<p>3080 rows × 18 columns</p>\n</div>"
     },
     "metadata": {},
     "execution_count": 36
    }
   ],
   "source": [
    "#Changing Date to ONLY reflect the month\n",
    "split_cols = merged_df['date'].str.split('-',expand=True)\n",
    "split_cols.columns = [f'Split-{i}' for i in range(3)]\n",
    "new_merge = merged_df.join(split_cols)\n",
    "new_merge"
   ]
  },
  {
   "cell_type": "code",
   "execution_count": 37,
   "metadata": {},
   "outputs": [
    {
     "output_type": "execute_result",
     "data": {
      "text/plain": [
       "  month  year    city  average_price  total_volume  \\\n",
       "0    01  2017  Albany           1.47     129948.23   \n",
       "1    01  2017  Albany           1.87       1376.70   \n",
       "2    01  2017  Albany           1.55      91728.18   \n",
       "3    01  2017  Albany           1.94       2229.52   \n",
       "4    01  2017  Albany           1.55      88526.26   \n",
       "\n",
       "   Per capita personal income     4046       4225    4770          type  \n",
       "0                       36780  4845.77  117027.41  200.36  conventional  \n",
       "1                       36780    71.65     192.63    0.00       organic  \n",
       "2                       36780  3355.47   75641.23   56.91  conventional  \n",
       "3                       36780    63.46     478.31    0.00       organic  \n",
       "4                       36780  3327.65   71956.77  607.03  conventional  "
      ],
      "text/html": "<div>\n<style scoped>\n    .dataframe tbody tr th:only-of-type {\n        vertical-align: middle;\n    }\n\n    .dataframe tbody tr th {\n        vertical-align: top;\n    }\n\n    .dataframe thead th {\n        text-align: right;\n    }\n</style>\n<table border=\"1\" class=\"dataframe\">\n  <thead>\n    <tr style=\"text-align: right;\">\n      <th></th>\n      <th>month</th>\n      <th>year</th>\n      <th>city</th>\n      <th>average_price</th>\n      <th>total_volume</th>\n      <th>Per capita personal income</th>\n      <th>4046</th>\n      <th>4225</th>\n      <th>4770</th>\n      <th>type</th>\n    </tr>\n  </thead>\n  <tbody>\n    <tr>\n      <th>0</th>\n      <td>01</td>\n      <td>2017</td>\n      <td>Albany</td>\n      <td>1.47</td>\n      <td>129948.23</td>\n      <td>36780</td>\n      <td>4845.77</td>\n      <td>117027.41</td>\n      <td>200.36</td>\n      <td>conventional</td>\n    </tr>\n    <tr>\n      <th>1</th>\n      <td>01</td>\n      <td>2017</td>\n      <td>Albany</td>\n      <td>1.87</td>\n      <td>1376.70</td>\n      <td>36780</td>\n      <td>71.65</td>\n      <td>192.63</td>\n      <td>0.00</td>\n      <td>organic</td>\n    </tr>\n    <tr>\n      <th>2</th>\n      <td>01</td>\n      <td>2017</td>\n      <td>Albany</td>\n      <td>1.55</td>\n      <td>91728.18</td>\n      <td>36780</td>\n      <td>3355.47</td>\n      <td>75641.23</td>\n      <td>56.91</td>\n      <td>conventional</td>\n    </tr>\n    <tr>\n      <th>3</th>\n      <td>01</td>\n      <td>2017</td>\n      <td>Albany</td>\n      <td>1.94</td>\n      <td>2229.52</td>\n      <td>36780</td>\n      <td>63.46</td>\n      <td>478.31</td>\n      <td>0.00</td>\n      <td>organic</td>\n    </tr>\n    <tr>\n      <th>4</th>\n      <td>01</td>\n      <td>2017</td>\n      <td>Albany</td>\n      <td>1.55</td>\n      <td>88526.26</td>\n      <td>36780</td>\n      <td>3327.65</td>\n      <td>71956.77</td>\n      <td>607.03</td>\n      <td>conventional</td>\n    </tr>\n  </tbody>\n</table>\n</div>"
     },
     "metadata": {},
     "execution_count": 37
    }
   ],
   "source": [
    "#make it pretty\n",
    "renamed_merge = new_merge.rename(columns={'Split-1':'month', 'geography':'city'})\n",
    "clean_merge = renamed_merge[['month', 'year', 'city', 'average_price', 'total_volume','Per capita personal income', '4046', '4225', '4770', 'type']]\n",
    "clean_merge.head()"
   ]
  },
  {
   "cell_type": "code",
   "execution_count": 38,
   "metadata": {},
   "outputs": [],
   "source": [
    "# Question 1: Which cities love avocados most?\n",
    "\n",
    "#Task 1: popularity of avocado, visual heatmap, 2015 to 2020, bar graph of volume per area "
   ]
  },
  {
   "cell_type": "code",
   "execution_count": 39,
   "metadata": {},
   "outputs": [],
   "source": [
    "#Question 2: Do states with higher income per capita buy more avocados? (income per capita from 2017-2019)\n",
    "\n",
    "#Task 2: line graph (x-values states, y-values income per capita and avocado revenue) "
   ]
  },
  {
   "cell_type": "code",
   "execution_count": 66,
   "metadata": {},
   "outputs": [
    {
     "output_type": "display_data",
     "data": {
      "text/plain": "<Figure size 432x288 with 1 Axes>",
      "image/svg+xml": "<?xml version=\"1.0\" encoding=\"utf-8\" standalone=\"no\"?>\r\n<!DOCTYPE svg PUBLIC \"-//W3C//DTD SVG 1.1//EN\"\r\n  \"http://www.w3.org/Graphics/SVG/1.1/DTD/svg11.dtd\">\r\n<!-- Created with matplotlib (https://matplotlib.org/) -->\r\n<svg height=\"231.84pt\" version=\"1.1\" viewBox=\"0 0 255.237709 231.84\" width=\"255.237709pt\" xmlns=\"http://www.w3.org/2000/svg\" xmlns:xlink=\"http://www.w3.org/1999/xlink\">\r\n <metadata>\r\n  <rdf:RDF xmlns:cc=\"http://creativecommons.org/ns#\" xmlns:dc=\"http://purl.org/dc/elements/1.1/\" xmlns:rdf=\"http://www.w3.org/1999/02/22-rdf-syntax-ns#\">\r\n   <cc:Work>\r\n    <dc:type rdf:resource=\"http://purl.org/dc/dcmitype/StillImage\"/>\r\n    <dc:date>2021-04-24T15:16:44.901442</dc:date>\r\n    <dc:format>image/svg+xml</dc:format>\r\n    <dc:creator>\r\n     <cc:Agent>\r\n      <dc:title>Matplotlib v3.3.2, https://matplotlib.org/</dc:title>\r\n     </cc:Agent>\r\n    </dc:creator>\r\n   </cc:Work>\r\n  </rdf:RDF>\r\n </metadata>\r\n <defs>\r\n  <style type=\"text/css\">*{stroke-linecap:butt;stroke-linejoin:round;}</style>\r\n </defs>\r\n <g id=\"figure_1\">\r\n  <g id=\"patch_1\">\r\n   <path d=\"M 0 231.84 \r\nL 255.237709 231.84 \r\nL 255.237709 0 \r\nL 0 0 \r\nz\r\n\" style=\"fill:none;\"/>\r\n  </g>\r\n  <g id=\"axes_1\">\r\n   <g id=\"patch_2\">\r\n    <path d=\"M 53.18975 68.376267 \r\nC 46.242067 76.656192 40.898314 86.159137 37.432847 96.397203 \r\nC 33.96738 106.63527 32.44054 117.430195 32.930717 128.22775 \r\nC 33.420894 139.025305 35.919553 149.637485 40.298408 159.519442 \r\nC 44.677264 169.4014 50.860073 178.381073 58.5294 185.99743 \r\nC 66.198726 193.613788 75.221033 199.734214 85.133101 204.044478 \r\nC 95.045169 208.354742 105.674411 210.779793 116.475104 211.195126 \r\nC 127.275797 211.610459 138.059881 210.008841 148.273684 206.472503 \r\nC 158.487487 202.936164 167.953169 197.526679 176.184745 190.52178 \r\nC 184.416321 183.51688 191.270465 175.038533 196.395274 165.522032 \r\nC 201.520083 156.005531 204.826325 145.616574 206.144253 134.888549 \r\nC 207.46218 124.160523 206.768844 113.280223 204.099843 102.80626 \r\nC 201.430842 92.332297 196.832648 82.447042 190.541339 73.658021 \r\nC 184.25003 64.868999 176.37515 57.329244 167.321007 51.425858 \r\nC 158.266864 45.522472 148.191108 41.358244 137.611045 39.146972 \r\nC 127.030981 36.935701 116.130828 36.715888 105.470217 38.498819 \r\nC 94.809607 40.28175 84.574159 44.036381 75.289378 49.569944 \r\nL 119.817231 124.283362 \r\nL 53.18975 68.376267 \r\nz\r\n\" style=\"fill:#2b472b;opacity:0.5;stroke:#2b472b;stroke-linejoin:miter;\"/>\r\n   </g>\r\n   <g id=\"patch_3\">\r\n    <path d=\"M 69.652626 42.946102 \r\nC 65.476135 45.435216 61.515701 48.270152 57.812963 51.421105 \r\nC 54.110226 54.572057 50.678208 58.027945 47.552993 61.752431 \r\nL 114.18048 117.65952 \r\nL 69.652626 42.946102 \r\nz\r\n\" style=\"fill:#002600;opacity:0.5;stroke:#002600;stroke-linejoin:miter;\"/>\r\n   </g>\r\n   <g id=\"patch_4\">\r\n    <path d=\"M 53.009678 68.525378 \r\nC 46.125147 76.730042 40.814978 86.136239 37.346942 96.269649 \r\nC 33.878906 106.403059 32.312292 117.090442 32.7261 127.792874 \r\nC 33.139908 138.495305 35.527062 149.029816 39.767188 158.865192 \r\nC 44.007313 168.700568 50.027921 177.668662 57.525415 185.317248 \r\nC 65.022909 192.965833 73.869111 199.16415 83.617942 203.599641 \r\nC 93.366773 208.035132 103.851565 210.631968 114.543612 211.259199 \r\nC 125.235659 211.88643 135.952167 210.533335 146.152746 207.268143 \r\nC 156.353325 204.002952 165.863583 198.881486 174.203957 192.162003 \r\nC 182.54433 185.44252 189.57223 177.239895 194.933267 167.967756 \r\nC 200.294303 158.695617 203.896824 148.51248 205.559168 137.931843 \r\nC 207.221513 127.351205 206.91526 116.553954 204.655854 106.084552 \r\nC 202.396448 95.615151 198.222516 85.652585 192.344532 76.699229 \r\nC 186.466548 67.745873 178.985004 59.954793 170.277164 53.718864 \r\nC 161.569325 47.482935 151.78406 42.908767 141.414802 40.227017 \r\nC 131.045545 37.545267 120.269569 36.801783 109.630265 38.034055 \r\nC 98.990962 39.266327 88.67022 42.45329 79.188477 47.434235 \r\nL 119.63716 124.432473 \r\nL 53.009678 68.525378 \r\nz\r\n\" style=\"fill:#2b472b;opacity:0.5;stroke:#2b472b;stroke-linejoin:miter;\"/>\r\n   </g>\r\n   <g id=\"patch_5\">\r\n    <path d=\"M 73.731797 40.661282 \r\nC 68.736235 43.285549 64.007898 46.389758 59.61368 49.929992 \r\nC 55.219462 53.470227 51.180184 57.429712 47.552993 61.752431 \r\nL 114.18048 117.65952 \r\nL 73.731797 40.661282 \r\nz\r\n\" style=\"fill:#002600;opacity:0.5;stroke:#002600;stroke-linejoin:miter;\"/>\r\n   </g>\r\n   <g id=\"patch_6\">\r\n    <path d=\"M 53.194058 68.372598 \r\nC 46.244846 76.654346 40.900284 86.159634 37.434888 96.400234 \r\nC 33.969491 106.640835 32.443626 117.438362 32.935667 128.238212 \r\nC 33.427708 139.038063 35.929084 149.652108 40.311314 159.535171 \r\nC 44.693544 169.418234 50.880293 178.398156 58.553784 186.013693 \r\nC 66.227275 193.629231 75.25384 199.747724 85.169841 204.054905 \r\nC 95.085841 208.362086 105.718545 210.782925 116.521815 211.193078 \r\nC 127.325085 211.603231 138.110734 209.995554 148.324769 206.452624 \r\nC 158.538805 202.909693 168.003303 197.493225 176.23213 190.481429 \r\nC 184.460957 183.469634 191.310772 174.984654 196.429741 165.46231 \r\nC 201.548711 155.939967 204.847664 145.546134 206.157155 134.81468 \r\nC 207.466646 124.083226 206.763864 113.201087 204.084907 102.727212 \r\nC 201.405949 92.253337 196.797482 82.370176 190.496214 73.585365 \r\nC 184.194946 64.800555 176.310642 57.267123 167.248271 51.372014 \r\nC 158.1859 45.476906 148.103323 41.322812 137.518421 39.123103 \r\nC 126.933519 36.923393 116.030675 36.716386 105.369902 38.512714 \r\nC 94.70913 40.309042 84.476133 44.077414 75.196518 49.624271 \r\nL 119.821539 124.279694 \r\nL 53.194058 68.372598 \r\nz\r\n\" style=\"fill:#2b472b;opacity:0.5;stroke:#2b472b;stroke-linejoin:miter;\"/>\r\n   </g>\r\n   <g id=\"patch_7\">\r\n    <path d=\"M 69.555459 43.004098 \r\nC 65.398425 45.48895 61.456191 48.316681 57.769884 51.457789 \r\nC 54.083576 54.598897 50.66606 58.042421 47.552989 61.752436 \r\nL 114.18048 117.65952 \r\nL 69.555459 43.004098 \r\nz\r\n\" style=\"fill:#002600;opacity:0.5;stroke:#002600;stroke-linejoin:miter;\"/>\r\n   </g>\r\n   <g id=\"patch_8\">\r\n    <path d=\"M 54.92927 66.636747 \r\nC 47.981587 74.916672 42.637834 84.419617 39.172367 94.657683 \r\nC 35.7069 104.89575 34.18006 115.690675 34.670237 126.48823 \r\nC 35.160414 137.285785 37.659073 147.897965 42.037928 157.779922 \r\nC 46.416784 167.66188 52.599593 176.641553 60.26892 184.25791 \r\nC 67.938246 191.874268 76.960553 197.994694 86.872621 202.304958 \r\nC 96.784689 206.615222 107.413931 209.040273 118.214624 209.455606 \r\nC 129.015317 209.870939 139.799401 208.269321 150.013204 204.732983 \r\nC 160.227007 201.196644 169.692689 195.787159 177.924265 188.78226 \r\nC 186.155841 181.77736 193.009985 173.299013 198.134794 163.782512 \r\nC 203.259603 154.266011 206.565845 143.877054 207.883773 133.149029 \r\nC 209.2017 122.421003 208.508364 111.540703 205.839363 101.06674 \r\nC 203.170362 90.592777 198.572168 80.707522 192.280859 71.918501 \r\nC 185.98955 63.129479 178.11467 55.589724 169.060527 49.686338 \r\nC 160.006384 43.782952 149.930628 39.618724 139.350565 37.407452 \r\nC 128.770501 35.196181 117.870348 34.976368 107.209737 36.759299 \r\nC 96.549127 38.54223 86.313679 42.296861 77.028898 47.830424 \r\nL 121.556751 122.543842 \r\nL 54.92927 66.636747 \r\nz\r\n\" style=\"fill:#90ee90;\"/>\r\n   </g>\r\n   <g id=\"patch_9\">\r\n    <path d=\"M 71.392146 41.206582 \r\nC 67.215655 43.695696 63.255221 46.530632 59.552483 49.681585 \r\nC 55.849746 52.832537 52.417728 56.288425 49.292513 60.012911 \r\nL 115.92 115.92 \r\nL 71.392146 41.206582 \r\nz\r\n\" style=\"fill:#008000;\"/>\r\n   </g>\r\n   <g id=\"patch_10\">\r\n    <path d=\"M 54.749198 66.785858 \r\nC 47.864667 74.990522 42.554498 84.396719 39.086462 94.530129 \r\nC 35.618426 104.663539 34.051812 115.350922 34.46562 126.053354 \r\nC 34.879428 136.755785 37.266582 147.290296 41.506708 157.125672 \r\nC 45.746833 166.961048 51.767441 175.929142 59.264935 183.577728 \r\nC 66.762429 191.226313 75.608631 197.42463 85.357462 201.860121 \r\nC 95.106293 206.295612 105.591085 208.892448 116.283132 209.519679 \r\nC 126.975179 210.14691 137.691687 208.793815 147.892266 205.528623 \r\nC 158.092845 202.263432 167.603103 197.141966 175.943477 190.422483 \r\nC 184.28385 183.703 191.31175 175.500375 196.672787 166.228236 \r\nC 202.033823 156.956097 205.636344 146.77296 207.298688 136.192323 \r\nC 208.961033 125.611685 208.65478 114.814434 206.395374 104.345032 \r\nC 204.135968 93.875631 199.962036 83.913065 194.084052 74.959709 \r\nC 188.206068 66.006353 180.724524 58.215273 172.016684 51.979344 \r\nC 163.308845 45.743415 153.52358 41.169247 143.154322 38.487497 \r\nC 132.785065 35.805747 122.009089 35.062263 111.369785 36.294535 \r\nC 100.730482 37.526807 90.40974 40.71377 80.927997 45.694715 \r\nL 121.37668 122.692953 \r\nL 54.749198 66.785858 \r\nz\r\n\" style=\"fill:#90ee90;\"/>\r\n   </g>\r\n   <g id=\"patch_11\">\r\n    <path d=\"M 75.471317 38.921762 \r\nC 70.475755 41.546029 65.747418 44.650238 61.3532 48.190472 \r\nC 56.958982 51.730707 52.919704 55.690192 49.292513 60.012911 \r\nL 115.92 115.92 \r\nL 75.471317 38.921762 \r\nz\r\n\" style=\"fill:#008000;\"/>\r\n   </g>\r\n   <g id=\"patch_12\">\r\n    <path d=\"M 54.933578 66.633078 \r\nC 47.984366 74.914826 42.639804 84.420114 39.174408 94.660714 \r\nC 35.709011 104.901315 34.183146 115.698842 34.675187 126.498692 \r\nC 35.167228 137.298543 37.668604 147.912588 42.050834 157.795651 \r\nC 46.433064 167.678714 52.619813 176.658636 60.293304 184.274173 \r\nC 67.966795 191.889711 76.99336 198.008204 86.909361 202.315385 \r\nC 96.825361 206.622566 107.458065 209.043405 118.261335 209.453558 \r\nC 129.064605 209.863711 139.850254 208.256034 150.064289 204.713104 \r\nC 160.278325 201.170173 169.742823 195.753705 177.97165 188.741909 \r\nC 186.200477 181.730114 193.050292 173.245134 198.169261 163.72279 \r\nC 203.288231 154.200447 206.587184 143.806614 207.896675 133.07516 \r\nC 209.206166 122.343706 208.503384 111.461567 205.824427 100.987692 \r\nC 203.145469 90.513817 198.537002 80.630656 192.235734 71.845845 \r\nC 185.934466 63.061035 178.050162 55.527603 168.987791 49.632494 \r\nC 159.92542 43.737386 149.842843 39.583292 139.257941 37.383583 \r\nC 128.673039 35.183873 117.770195 34.976866 107.109422 36.773194 \r\nC 96.44865 38.569522 86.215653 42.337894 76.936038 47.884751 \r\nL 121.561059 122.540174 \r\nL 54.933578 66.633078 \r\nz\r\n\" style=\"fill:#90ee90;\"/>\r\n   </g>\r\n   <g id=\"patch_13\">\r\n    <path d=\"M 71.294979 41.264578 \r\nC 67.137945 43.74943 63.195711 46.577161 59.509404 49.718269 \r\nC 55.823096 52.859377 52.40558 56.302901 49.292509 60.012916 \r\nL 115.92 115.92 \r\nL 71.294979 41.264578 \r\nz\r\n\" style=\"fill:#008000;\"/>\r\n   </g>\r\n   <g id=\"matplotlib.axis_1\"/>\r\n   <g id=\"matplotlib.axis_2\"/>\r\n   <g id=\"text_1\">\r\n    <!-- conventional -->\r\n    <g transform=\"translate(183.561016 198.165476)scale(0.1 -0.1)\">\r\n     <defs>\r\n      <path d=\"M 48.78125 52.59375 \r\nL 48.78125 44.1875 \r\nQ 44.96875 46.296875 41.140625 47.34375 \r\nQ 37.3125 48.390625 33.40625 48.390625 \r\nQ 24.65625 48.390625 19.8125 42.84375 \r\nQ 14.984375 37.3125 14.984375 27.296875 \r\nQ 14.984375 17.28125 19.8125 11.734375 \r\nQ 24.65625 6.203125 33.40625 6.203125 \r\nQ 37.3125 6.203125 41.140625 7.25 \r\nQ 44.96875 8.296875 48.78125 10.40625 \r\nL 48.78125 2.09375 \r\nQ 45.015625 0.34375 40.984375 -0.53125 \r\nQ 36.96875 -1.421875 32.421875 -1.421875 \r\nQ 20.0625 -1.421875 12.78125 6.34375 \r\nQ 5.515625 14.109375 5.515625 27.296875 \r\nQ 5.515625 40.671875 12.859375 48.328125 \r\nQ 20.21875 56 33.015625 56 \r\nQ 37.15625 56 41.109375 55.140625 \r\nQ 45.0625 54.296875 48.78125 52.59375 \r\nz\r\n\" id=\"DejaVuSans-99\"/>\r\n      <path d=\"M 30.609375 48.390625 \r\nQ 23.390625 48.390625 19.1875 42.75 \r\nQ 14.984375 37.109375 14.984375 27.296875 \r\nQ 14.984375 17.484375 19.15625 11.84375 \r\nQ 23.34375 6.203125 30.609375 6.203125 \r\nQ 37.796875 6.203125 41.984375 11.859375 \r\nQ 46.1875 17.53125 46.1875 27.296875 \r\nQ 46.1875 37.015625 41.984375 42.703125 \r\nQ 37.796875 48.390625 30.609375 48.390625 \r\nz\r\nM 30.609375 56 \r\nQ 42.328125 56 49.015625 48.375 \r\nQ 55.71875 40.765625 55.71875 27.296875 \r\nQ 55.71875 13.875 49.015625 6.21875 \r\nQ 42.328125 -1.421875 30.609375 -1.421875 \r\nQ 18.84375 -1.421875 12.171875 6.21875 \r\nQ 5.515625 13.875 5.515625 27.296875 \r\nQ 5.515625 40.765625 12.171875 48.375 \r\nQ 18.84375 56 30.609375 56 \r\nz\r\n\" id=\"DejaVuSans-111\"/>\r\n      <path d=\"M 54.890625 33.015625 \r\nL 54.890625 0 \r\nL 45.90625 0 \r\nL 45.90625 32.71875 \r\nQ 45.90625 40.484375 42.875 44.328125 \r\nQ 39.84375 48.1875 33.796875 48.1875 \r\nQ 26.515625 48.1875 22.3125 43.546875 \r\nQ 18.109375 38.921875 18.109375 30.90625 \r\nL 18.109375 0 \r\nL 9.078125 0 \r\nL 9.078125 54.6875 \r\nL 18.109375 54.6875 \r\nL 18.109375 46.1875 \r\nQ 21.34375 51.125 25.703125 53.5625 \r\nQ 30.078125 56 35.796875 56 \r\nQ 45.21875 56 50.046875 50.171875 \r\nQ 54.890625 44.34375 54.890625 33.015625 \r\nz\r\n\" id=\"DejaVuSans-110\"/>\r\n      <path d=\"M 2.984375 54.6875 \r\nL 12.5 54.6875 \r\nL 29.59375 8.796875 \r\nL 46.6875 54.6875 \r\nL 56.203125 54.6875 \r\nL 35.6875 0 \r\nL 23.484375 0 \r\nz\r\n\" id=\"DejaVuSans-118\"/>\r\n      <path d=\"M 56.203125 29.59375 \r\nL 56.203125 25.203125 \r\nL 14.890625 25.203125 \r\nQ 15.484375 15.921875 20.484375 11.0625 \r\nQ 25.484375 6.203125 34.421875 6.203125 \r\nQ 39.59375 6.203125 44.453125 7.46875 \r\nQ 49.3125 8.734375 54.109375 11.28125 \r\nL 54.109375 2.78125 \r\nQ 49.265625 0.734375 44.1875 -0.34375 \r\nQ 39.109375 -1.421875 33.890625 -1.421875 \r\nQ 20.796875 -1.421875 13.15625 6.1875 \r\nQ 5.515625 13.8125 5.515625 26.8125 \r\nQ 5.515625 40.234375 12.765625 48.109375 \r\nQ 20.015625 56 32.328125 56 \r\nQ 43.359375 56 49.78125 48.890625 \r\nQ 56.203125 41.796875 56.203125 29.59375 \r\nz\r\nM 47.21875 32.234375 \r\nQ 47.125 39.59375 43.09375 43.984375 \r\nQ 39.0625 48.390625 32.421875 48.390625 \r\nQ 24.90625 48.390625 20.390625 44.140625 \r\nQ 15.875 39.890625 15.1875 32.171875 \r\nz\r\n\" id=\"DejaVuSans-101\"/>\r\n      <path d=\"M 18.3125 70.21875 \r\nL 18.3125 54.6875 \r\nL 36.8125 54.6875 \r\nL 36.8125 47.703125 \r\nL 18.3125 47.703125 \r\nL 18.3125 18.015625 \r\nQ 18.3125 11.328125 20.140625 9.421875 \r\nQ 21.96875 7.515625 27.59375 7.515625 \r\nL 36.8125 7.515625 \r\nL 36.8125 0 \r\nL 27.59375 0 \r\nQ 17.1875 0 13.234375 3.875 \r\nQ 9.28125 7.765625 9.28125 18.015625 \r\nL 9.28125 47.703125 \r\nL 2.6875 47.703125 \r\nL 2.6875 54.6875 \r\nL 9.28125 54.6875 \r\nL 9.28125 70.21875 \r\nz\r\n\" id=\"DejaVuSans-116\"/>\r\n      <path d=\"M 9.421875 54.6875 \r\nL 18.40625 54.6875 \r\nL 18.40625 0 \r\nL 9.421875 0 \r\nz\r\nM 9.421875 75.984375 \r\nL 18.40625 75.984375 \r\nL 18.40625 64.59375 \r\nL 9.421875 64.59375 \r\nz\r\n\" id=\"DejaVuSans-105\"/>\r\n      <path d=\"M 34.28125 27.484375 \r\nQ 23.390625 27.484375 19.1875 25 \r\nQ 14.984375 22.515625 14.984375 16.5 \r\nQ 14.984375 11.71875 18.140625 8.90625 \r\nQ 21.296875 6.109375 26.703125 6.109375 \r\nQ 34.1875 6.109375 38.703125 11.40625 \r\nQ 43.21875 16.703125 43.21875 25.484375 \r\nL 43.21875 27.484375 \r\nz\r\nM 52.203125 31.203125 \r\nL 52.203125 0 \r\nL 43.21875 0 \r\nL 43.21875 8.296875 \r\nQ 40.140625 3.328125 35.546875 0.953125 \r\nQ 30.953125 -1.421875 24.3125 -1.421875 \r\nQ 15.921875 -1.421875 10.953125 3.296875 \r\nQ 6 8.015625 6 15.921875 \r\nQ 6 25.140625 12.171875 29.828125 \r\nQ 18.359375 34.515625 30.609375 34.515625 \r\nL 43.21875 34.515625 \r\nL 43.21875 35.40625 \r\nQ 43.21875 41.609375 39.140625 45 \r\nQ 35.0625 48.390625 27.6875 48.390625 \r\nQ 23 48.390625 18.546875 47.265625 \r\nQ 14.109375 46.140625 10.015625 43.890625 \r\nL 10.015625 52.203125 \r\nQ 14.9375 54.109375 19.578125 55.046875 \r\nQ 24.21875 56 28.609375 56 \r\nQ 40.484375 56 46.34375 49.84375 \r\nQ 52.203125 43.703125 52.203125 31.203125 \r\nz\r\n\" id=\"DejaVuSans-97\"/>\r\n      <path d=\"M 9.421875 75.984375 \r\nL 18.40625 75.984375 \r\nL 18.40625 0 \r\nL 9.421875 0 \r\nz\r\n\" id=\"DejaVuSans-108\"/>\r\n     </defs>\r\n     <use xlink:href=\"#DejaVuSans-99\"/>\r\n     <use x=\"54.980469\" xlink:href=\"#DejaVuSans-111\"/>\r\n     <use x=\"116.162109\" xlink:href=\"#DejaVuSans-110\"/>\r\n     <use x=\"179.541016\" xlink:href=\"#DejaVuSans-118\"/>\r\n     <use x=\"238.720703\" xlink:href=\"#DejaVuSans-101\"/>\r\n     <use x=\"300.244141\" xlink:href=\"#DejaVuSans-110\"/>\r\n     <use x=\"363.623047\" xlink:href=\"#DejaVuSans-116\"/>\r\n     <use x=\"402.832031\" xlink:href=\"#DejaVuSans-105\"/>\r\n     <use x=\"430.615234\" xlink:href=\"#DejaVuSans-111\"/>\r\n     <use x=\"491.796875\" xlink:href=\"#DejaVuSans-110\"/>\r\n     <use x=\"555.175781\" xlink:href=\"#DejaVuSans-97\"/>\r\n     <use x=\"616.455078\" xlink:href=\"#DejaVuSans-108\"/>\r\n    </g>\r\n   </g>\r\n   <g id=\"text_2\">\r\n    <!-- 94.7% -->\r\n    <g transform=\"translate(139.493666 165.046268)scale(0.1 -0.1)\">\r\n     <defs>\r\n      <path d=\"M 10.984375 1.515625 \r\nL 10.984375 10.5 \r\nQ 14.703125 8.734375 18.5 7.8125 \r\nQ 22.3125 6.890625 25.984375 6.890625 \r\nQ 35.75 6.890625 40.890625 13.453125 \r\nQ 46.046875 20.015625 46.78125 33.40625 \r\nQ 43.953125 29.203125 39.59375 26.953125 \r\nQ 35.25 24.703125 29.984375 24.703125 \r\nQ 19.046875 24.703125 12.671875 31.3125 \r\nQ 6.296875 37.9375 6.296875 49.421875 \r\nQ 6.296875 60.640625 12.9375 67.421875 \r\nQ 19.578125 74.21875 30.609375 74.21875 \r\nQ 43.265625 74.21875 49.921875 64.515625 \r\nQ 56.59375 54.828125 56.59375 36.375 \r\nQ 56.59375 19.140625 48.40625 8.859375 \r\nQ 40.234375 -1.421875 26.421875 -1.421875 \r\nQ 22.703125 -1.421875 18.890625 -0.6875 \r\nQ 15.09375 0.046875 10.984375 1.515625 \r\nz\r\nM 30.609375 32.421875 \r\nQ 37.25 32.421875 41.125 36.953125 \r\nQ 45.015625 41.5 45.015625 49.421875 \r\nQ 45.015625 57.28125 41.125 61.84375 \r\nQ 37.25 66.40625 30.609375 66.40625 \r\nQ 23.96875 66.40625 20.09375 61.84375 \r\nQ 16.21875 57.28125 16.21875 49.421875 \r\nQ 16.21875 41.5 20.09375 36.953125 \r\nQ 23.96875 32.421875 30.609375 32.421875 \r\nz\r\n\" id=\"DejaVuSans-57\"/>\r\n      <path d=\"M 37.796875 64.3125 \r\nL 12.890625 25.390625 \r\nL 37.796875 25.390625 \r\nz\r\nM 35.203125 72.90625 \r\nL 47.609375 72.90625 \r\nL 47.609375 25.390625 \r\nL 58.015625 25.390625 \r\nL 58.015625 17.1875 \r\nL 47.609375 17.1875 \r\nL 47.609375 0 \r\nL 37.796875 0 \r\nL 37.796875 17.1875 \r\nL 4.890625 17.1875 \r\nL 4.890625 26.703125 \r\nz\r\n\" id=\"DejaVuSans-52\"/>\r\n      <path d=\"M 10.6875 12.40625 \r\nL 21 12.40625 \r\nL 21 0 \r\nL 10.6875 0 \r\nz\r\n\" id=\"DejaVuSans-46\"/>\r\n      <path d=\"M 8.203125 72.90625 \r\nL 55.078125 72.90625 \r\nL 55.078125 68.703125 \r\nL 28.609375 0 \r\nL 18.3125 0 \r\nL 43.21875 64.59375 \r\nL 8.203125 64.59375 \r\nz\r\n\" id=\"DejaVuSans-55\"/>\r\n      <path d=\"M 72.703125 32.078125 \r\nQ 68.453125 32.078125 66.03125 28.46875 \r\nQ 63.625 24.859375 63.625 18.40625 \r\nQ 63.625 12.0625 66.03125 8.421875 \r\nQ 68.453125 4.78125 72.703125 4.78125 \r\nQ 76.859375 4.78125 79.265625 8.421875 \r\nQ 81.6875 12.0625 81.6875 18.40625 \r\nQ 81.6875 24.8125 79.265625 28.4375 \r\nQ 76.859375 32.078125 72.703125 32.078125 \r\nz\r\nM 72.703125 38.28125 \r\nQ 80.421875 38.28125 84.953125 32.90625 \r\nQ 89.5 27.546875 89.5 18.40625 \r\nQ 89.5 9.28125 84.9375 3.921875 \r\nQ 80.375 -1.421875 72.703125 -1.421875 \r\nQ 64.890625 -1.421875 60.34375 3.921875 \r\nQ 55.8125 9.28125 55.8125 18.40625 \r\nQ 55.8125 27.59375 60.375 32.9375 \r\nQ 64.9375 38.28125 72.703125 38.28125 \r\nz\r\nM 22.3125 68.015625 \r\nQ 18.109375 68.015625 15.6875 64.375 \r\nQ 13.28125 60.75 13.28125 54.390625 \r\nQ 13.28125 47.953125 15.671875 44.328125 \r\nQ 18.0625 40.71875 22.3125 40.71875 \r\nQ 26.5625 40.71875 28.96875 44.328125 \r\nQ 31.390625 47.953125 31.390625 54.390625 \r\nQ 31.390625 60.6875 28.953125 64.34375 \r\nQ 26.515625 68.015625 22.3125 68.015625 \r\nz\r\nM 66.40625 74.21875 \r\nL 74.21875 74.21875 \r\nL 28.609375 -1.421875 \r\nL 20.796875 -1.421875 \r\nz\r\nM 22.3125 74.21875 \r\nQ 30.03125 74.21875 34.609375 68.875 \r\nQ 39.203125 63.53125 39.203125 54.390625 \r\nQ 39.203125 45.171875 34.640625 39.84375 \r\nQ 30.078125 34.515625 22.3125 34.515625 \r\nQ 14.546875 34.515625 10.03125 39.859375 \r\nQ 5.515625 45.21875 5.515625 54.390625 \r\nQ 5.515625 63.484375 10.046875 68.84375 \r\nQ 14.59375 74.21875 22.3125 74.21875 \r\nz\r\n\" id=\"DejaVuSans-37\"/>\r\n     </defs>\r\n     <use xlink:href=\"#DejaVuSans-57\"/>\r\n     <use x=\"63.623047\" xlink:href=\"#DejaVuSans-52\"/>\r\n     <use x=\"127.246094\" xlink:href=\"#DejaVuSans-46\"/>\r\n     <use x=\"159.033203\" xlink:href=\"#DejaVuSans-55\"/>\r\n     <use x=\"222.65625\" xlink:href=\"#DejaVuSans-37\"/>\r\n    </g>\r\n   </g>\r\n   <g id=\"text_3\">\r\n    <!-- organic -->\r\n    <g transform=\"translate(16.770419 45.817118)scale(0.1 -0.1)\">\r\n     <defs>\r\n      <path d=\"M 41.109375 46.296875 \r\nQ 39.59375 47.171875 37.8125 47.578125 \r\nQ 36.03125 48 33.890625 48 \r\nQ 26.265625 48 22.1875 43.046875 \r\nQ 18.109375 38.09375 18.109375 28.8125 \r\nL 18.109375 0 \r\nL 9.078125 0 \r\nL 9.078125 54.6875 \r\nL 18.109375 54.6875 \r\nL 18.109375 46.1875 \r\nQ 20.953125 51.171875 25.484375 53.578125 \r\nQ 30.03125 56 36.53125 56 \r\nQ 37.453125 56 38.578125 55.875 \r\nQ 39.703125 55.765625 41.0625 55.515625 \r\nz\r\n\" id=\"DejaVuSans-114\"/>\r\n      <path d=\"M 45.40625 27.984375 \r\nQ 45.40625 37.75 41.375 43.109375 \r\nQ 37.359375 48.484375 30.078125 48.484375 \r\nQ 22.859375 48.484375 18.828125 43.109375 \r\nQ 14.796875 37.75 14.796875 27.984375 \r\nQ 14.796875 18.265625 18.828125 12.890625 \r\nQ 22.859375 7.515625 30.078125 7.515625 \r\nQ 37.359375 7.515625 41.375 12.890625 \r\nQ 45.40625 18.265625 45.40625 27.984375 \r\nz\r\nM 54.390625 6.78125 \r\nQ 54.390625 -7.171875 48.1875 -13.984375 \r\nQ 42 -20.796875 29.203125 -20.796875 \r\nQ 24.46875 -20.796875 20.265625 -20.09375 \r\nQ 16.0625 -19.390625 12.109375 -17.921875 \r\nL 12.109375 -9.1875 \r\nQ 16.0625 -11.328125 19.921875 -12.34375 \r\nQ 23.78125 -13.375 27.78125 -13.375 \r\nQ 36.625 -13.375 41.015625 -8.765625 \r\nQ 45.40625 -4.15625 45.40625 5.171875 \r\nL 45.40625 9.625 \r\nQ 42.625 4.78125 38.28125 2.390625 \r\nQ 33.9375 0 27.875 0 \r\nQ 17.828125 0 11.671875 7.65625 \r\nQ 5.515625 15.328125 5.515625 27.984375 \r\nQ 5.515625 40.671875 11.671875 48.328125 \r\nQ 17.828125 56 27.875 56 \r\nQ 33.9375 56 38.28125 53.609375 \r\nQ 42.625 51.21875 45.40625 46.390625 \r\nL 45.40625 54.6875 \r\nL 54.390625 54.6875 \r\nz\r\n\" id=\"DejaVuSans-103\"/>\r\n     </defs>\r\n     <use xlink:href=\"#DejaVuSans-111\"/>\r\n     <use x=\"61.181641\" xlink:href=\"#DejaVuSans-114\"/>\r\n     <use x=\"100.544922\" xlink:href=\"#DejaVuSans-103\"/>\r\n     <use x=\"164.021484\" xlink:href=\"#DejaVuSans-97\"/>\r\n     <use x=\"225.300781\" xlink:href=\"#DejaVuSans-110\"/>\r\n     <use x=\"288.679688\" xlink:href=\"#DejaVuSans-105\"/>\r\n     <use x=\"316.462891\" xlink:href=\"#DejaVuSans-99\"/>\r\n    </g>\r\n   </g>\r\n   <g id=\"text_4\">\r\n    <!-- 5.3% -->\r\n    <g transform=\"translate(69.397146 78.936326)scale(0.1 -0.1)\">\r\n     <defs>\r\n      <path d=\"M 10.796875 72.90625 \r\nL 49.515625 72.90625 \r\nL 49.515625 64.59375 \r\nL 19.828125 64.59375 \r\nL 19.828125 46.734375 \r\nQ 21.96875 47.46875 24.109375 47.828125 \r\nQ 26.265625 48.1875 28.421875 48.1875 \r\nQ 40.625 48.1875 47.75 41.5 \r\nQ 54.890625 34.8125 54.890625 23.390625 \r\nQ 54.890625 11.625 47.5625 5.09375 \r\nQ 40.234375 -1.421875 26.90625 -1.421875 \r\nQ 22.3125 -1.421875 17.546875 -0.640625 \r\nQ 12.796875 0.140625 7.71875 1.703125 \r\nL 7.71875 11.625 \r\nQ 12.109375 9.234375 16.796875 8.0625 \r\nQ 21.484375 6.890625 26.703125 6.890625 \r\nQ 35.15625 6.890625 40.078125 11.328125 \r\nQ 45.015625 15.765625 45.015625 23.390625 \r\nQ 45.015625 31 40.078125 35.4375 \r\nQ 35.15625 39.890625 26.703125 39.890625 \r\nQ 22.75 39.890625 18.8125 39.015625 \r\nQ 14.890625 38.140625 10.796875 36.28125 \r\nz\r\n\" id=\"DejaVuSans-53\"/>\r\n      <path d=\"M 40.578125 39.3125 \r\nQ 47.65625 37.796875 51.625 33 \r\nQ 55.609375 28.21875 55.609375 21.1875 \r\nQ 55.609375 10.40625 48.1875 4.484375 \r\nQ 40.765625 -1.421875 27.09375 -1.421875 \r\nQ 22.515625 -1.421875 17.65625 -0.515625 \r\nQ 12.796875 0.390625 7.625 2.203125 \r\nL 7.625 11.71875 \r\nQ 11.71875 9.328125 16.59375 8.109375 \r\nQ 21.484375 6.890625 26.8125 6.890625 \r\nQ 36.078125 6.890625 40.9375 10.546875 \r\nQ 45.796875 14.203125 45.796875 21.1875 \r\nQ 45.796875 27.640625 41.28125 31.265625 \r\nQ 36.765625 34.90625 28.71875 34.90625 \r\nL 20.21875 34.90625 \r\nL 20.21875 43.015625 \r\nL 29.109375 43.015625 \r\nQ 36.375 43.015625 40.234375 45.921875 \r\nQ 44.09375 48.828125 44.09375 54.296875 \r\nQ 44.09375 59.90625 40.109375 62.90625 \r\nQ 36.140625 65.921875 28.71875 65.921875 \r\nQ 24.65625 65.921875 20.015625 65.03125 \r\nQ 15.375 64.15625 9.8125 62.3125 \r\nL 9.8125 71.09375 \r\nQ 15.4375 72.65625 20.34375 73.4375 \r\nQ 25.25 74.21875 29.59375 74.21875 \r\nQ 40.828125 74.21875 47.359375 69.109375 \r\nQ 53.90625 64.015625 53.90625 55.328125 \r\nQ 53.90625 49.265625 50.4375 45.09375 \r\nQ 46.96875 40.921875 40.578125 39.3125 \r\nz\r\n\" id=\"DejaVuSans-51\"/>\r\n     </defs>\r\n     <use xlink:href=\"#DejaVuSans-53\"/>\r\n     <use x=\"63.623047\" xlink:href=\"#DejaVuSans-46\"/>\r\n     <use x=\"95.410156\" xlink:href=\"#DejaVuSans-51\"/>\r\n     <use x=\"159.033203\" xlink:href=\"#DejaVuSans-37\"/>\r\n    </g>\r\n   </g>\r\n   <g id=\"text_5\">\r\n    <!-- conventional -->\r\n    <g transform=\"translate(181.400156 199.954811)scale(0.1 -0.1)\">\r\n     <use xlink:href=\"#DejaVuSans-99\"/>\r\n     <use x=\"54.980469\" xlink:href=\"#DejaVuSans-111\"/>\r\n     <use x=\"116.162109\" xlink:href=\"#DejaVuSans-110\"/>\r\n     <use x=\"179.541016\" xlink:href=\"#DejaVuSans-118\"/>\r\n     <use x=\"238.720703\" xlink:href=\"#DejaVuSans-101\"/>\r\n     <use x=\"300.244141\" xlink:href=\"#DejaVuSans-110\"/>\r\n     <use x=\"363.623047\" xlink:href=\"#DejaVuSans-116\"/>\r\n     <use x=\"402.832031\" xlink:href=\"#DejaVuSans-105\"/>\r\n     <use x=\"430.615234\" xlink:href=\"#DejaVuSans-111\"/>\r\n     <use x=\"491.796875\" xlink:href=\"#DejaVuSans-110\"/>\r\n     <use x=\"555.175781\" xlink:href=\"#DejaVuSans-97\"/>\r\n     <use x=\"616.455078\" xlink:href=\"#DejaVuSans-108\"/>\r\n    </g>\r\n   </g>\r\n   <g id=\"text_6\">\r\n    <!-- 93.8% -->\r\n    <g transform=\"translate(138.233164 166.090046)scale(0.1 -0.1)\">\r\n     <defs>\r\n      <path d=\"M 31.78125 34.625 \r\nQ 24.75 34.625 20.71875 30.859375 \r\nQ 16.703125 27.09375 16.703125 20.515625 \r\nQ 16.703125 13.921875 20.71875 10.15625 \r\nQ 24.75 6.390625 31.78125 6.390625 \r\nQ 38.8125 6.390625 42.859375 10.171875 \r\nQ 46.921875 13.96875 46.921875 20.515625 \r\nQ 46.921875 27.09375 42.890625 30.859375 \r\nQ 38.875 34.625 31.78125 34.625 \r\nz\r\nM 21.921875 38.8125 \r\nQ 15.578125 40.375 12.03125 44.71875 \r\nQ 8.5 49.078125 8.5 55.328125 \r\nQ 8.5 64.0625 14.71875 69.140625 \r\nQ 20.953125 74.21875 31.78125 74.21875 \r\nQ 42.671875 74.21875 48.875 69.140625 \r\nQ 55.078125 64.0625 55.078125 55.328125 \r\nQ 55.078125 49.078125 51.53125 44.71875 \r\nQ 48 40.375 41.703125 38.8125 \r\nQ 48.828125 37.15625 52.796875 32.3125 \r\nQ 56.78125 27.484375 56.78125 20.515625 \r\nQ 56.78125 9.90625 50.3125 4.234375 \r\nQ 43.84375 -1.421875 31.78125 -1.421875 \r\nQ 19.734375 -1.421875 13.25 4.234375 \r\nQ 6.78125 9.90625 6.78125 20.515625 \r\nQ 6.78125 27.484375 10.78125 32.3125 \r\nQ 14.796875 37.15625 21.921875 38.8125 \r\nz\r\nM 18.3125 54.390625 \r\nQ 18.3125 48.734375 21.84375 45.5625 \r\nQ 25.390625 42.390625 31.78125 42.390625 \r\nQ 38.140625 42.390625 41.71875 45.5625 \r\nQ 45.3125 48.734375 45.3125 54.390625 \r\nQ 45.3125 60.0625 41.71875 63.234375 \r\nQ 38.140625 66.40625 31.78125 66.40625 \r\nQ 25.390625 66.40625 21.84375 63.234375 \r\nQ 18.3125 60.0625 18.3125 54.390625 \r\nz\r\n\" id=\"DejaVuSans-56\"/>\r\n     </defs>\r\n     <use xlink:href=\"#DejaVuSans-57\"/>\r\n     <use x=\"63.623047\" xlink:href=\"#DejaVuSans-51\"/>\r\n     <use x=\"127.246094\" xlink:href=\"#DejaVuSans-46\"/>\r\n     <use x=\"159.033203\" xlink:href=\"#DejaVuSans-56\"/>\r\n     <use x=\"222.65625\" xlink:href=\"#DejaVuSans-37\"/>\r\n    </g>\r\n   </g>\r\n   <g id=\"text_7\">\r\n    <!-- organic -->\r\n    <g transform=\"translate(18.751207 44.176895)scale(0.1 -0.1)\">\r\n     <use xlink:href=\"#DejaVuSans-111\"/>\r\n     <use x=\"61.181641\" xlink:href=\"#DejaVuSans-114\"/>\r\n     <use x=\"100.544922\" xlink:href=\"#DejaVuSans-103\"/>\r\n     <use x=\"164.021484\" xlink:href=\"#DejaVuSans-97\"/>\r\n     <use x=\"225.300781\" xlink:href=\"#DejaVuSans-110\"/>\r\n     <use x=\"288.679688\" xlink:href=\"#DejaVuSans-105\"/>\r\n     <use x=\"316.462891\" xlink:href=\"#DejaVuSans-99\"/>\r\n    </g>\r\n   </g>\r\n   <g id=\"text_8\">\r\n    <!-- 6.2% -->\r\n    <g transform=\"translate(70.477576 78.041658)scale(0.1 -0.1)\">\r\n     <defs>\r\n      <path d=\"M 33.015625 40.375 \r\nQ 26.375 40.375 22.484375 35.828125 \r\nQ 18.609375 31.296875 18.609375 23.390625 \r\nQ 18.609375 15.53125 22.484375 10.953125 \r\nQ 26.375 6.390625 33.015625 6.390625 \r\nQ 39.65625 6.390625 43.53125 10.953125 \r\nQ 47.40625 15.53125 47.40625 23.390625 \r\nQ 47.40625 31.296875 43.53125 35.828125 \r\nQ 39.65625 40.375 33.015625 40.375 \r\nz\r\nM 52.59375 71.296875 \r\nL 52.59375 62.3125 \r\nQ 48.875 64.0625 45.09375 64.984375 \r\nQ 41.3125 65.921875 37.59375 65.921875 \r\nQ 27.828125 65.921875 22.671875 59.328125 \r\nQ 17.53125 52.734375 16.796875 39.40625 \r\nQ 19.671875 43.65625 24.015625 45.921875 \r\nQ 28.375 48.1875 33.59375 48.1875 \r\nQ 44.578125 48.1875 50.953125 41.515625 \r\nQ 57.328125 34.859375 57.328125 23.390625 \r\nQ 57.328125 12.15625 50.6875 5.359375 \r\nQ 44.046875 -1.421875 33.015625 -1.421875 \r\nQ 20.359375 -1.421875 13.671875 8.265625 \r\nQ 6.984375 17.96875 6.984375 36.375 \r\nQ 6.984375 53.65625 15.1875 63.9375 \r\nQ 23.390625 74.21875 37.203125 74.21875 \r\nQ 40.921875 74.21875 44.703125 73.484375 \r\nQ 48.484375 72.75 52.59375 71.296875 \r\nz\r\n\" id=\"DejaVuSans-54\"/>\r\n      <path d=\"M 19.1875 8.296875 \r\nL 53.609375 8.296875 \r\nL 53.609375 0 \r\nL 7.328125 0 \r\nL 7.328125 8.296875 \r\nQ 12.9375 14.109375 22.625 23.890625 \r\nQ 32.328125 33.6875 34.8125 36.53125 \r\nQ 39.546875 41.84375 41.421875 45.53125 \r\nQ 43.3125 49.21875 43.3125 52.78125 \r\nQ 43.3125 58.59375 39.234375 62.25 \r\nQ 35.15625 65.921875 28.609375 65.921875 \r\nQ 23.96875 65.921875 18.8125 64.3125 \r\nQ 13.671875 62.703125 7.8125 59.421875 \r\nL 7.8125 69.390625 \r\nQ 13.765625 71.78125 18.9375 73 \r\nQ 24.125 74.21875 28.421875 74.21875 \r\nQ 39.75 74.21875 46.484375 68.546875 \r\nQ 53.21875 62.890625 53.21875 53.421875 \r\nQ 53.21875 48.921875 51.53125 44.890625 \r\nQ 49.859375 40.875 45.40625 35.40625 \r\nQ 44.1875 33.984375 37.640625 27.21875 \r\nQ 31.109375 20.453125 19.1875 8.296875 \r\nz\r\n\" id=\"DejaVuSans-50\"/>\r\n     </defs>\r\n     <use xlink:href=\"#DejaVuSans-54\"/>\r\n     <use x=\"63.623047\" xlink:href=\"#DejaVuSans-46\"/>\r\n     <use x=\"95.410156\" xlink:href=\"#DejaVuSans-50\"/>\r\n     <use x=\"159.033203\" xlink:href=\"#DejaVuSans-37\"/>\r\n    </g>\r\n   </g>\r\n   <g id=\"text_9\">\r\n    <!-- conventional -->\r\n    <g transform=\"translate(183.612709 198.121458)scale(0.1 -0.1)\">\r\n     <use xlink:href=\"#DejaVuSans-99\"/>\r\n     <use x=\"54.980469\" xlink:href=\"#DejaVuSans-111\"/>\r\n     <use x=\"116.162109\" xlink:href=\"#DejaVuSans-110\"/>\r\n     <use x=\"179.541016\" xlink:href=\"#DejaVuSans-118\"/>\r\n     <use x=\"238.720703\" xlink:href=\"#DejaVuSans-101\"/>\r\n     <use x=\"300.244141\" xlink:href=\"#DejaVuSans-110\"/>\r\n     <use x=\"363.623047\" xlink:href=\"#DejaVuSans-116\"/>\r\n     <use x=\"402.832031\" xlink:href=\"#DejaVuSans-105\"/>\r\n     <use x=\"430.615234\" xlink:href=\"#DejaVuSans-111\"/>\r\n     <use x=\"491.796875\" xlink:href=\"#DejaVuSans-110\"/>\r\n     <use x=\"555.175781\" xlink:href=\"#DejaVuSans-97\"/>\r\n     <use x=\"616.455078\" xlink:href=\"#DejaVuSans-108\"/>\r\n    </g>\r\n   </g>\r\n   <g id=\"text_10\">\r\n    <!-- 94.7% -->\r\n    <g transform=\"translate(139.52382 165.02059)scale(0.1 -0.1)\">\r\n     <use xlink:href=\"#DejaVuSans-57\"/>\r\n     <use x=\"63.623047\" xlink:href=\"#DejaVuSans-52\"/>\r\n     <use x=\"127.246094\" xlink:href=\"#DejaVuSans-46\"/>\r\n     <use x=\"159.033203\" xlink:href=\"#DejaVuSans-55\"/>\r\n     <use x=\"222.65625\" xlink:href=\"#DejaVuSans-37\"/>\r\n    </g>\r\n   </g>\r\n   <g id=\"text_11\">\r\n    <!-- organic -->\r\n    <g transform=\"translate(16.723032 45.857471)scale(0.1 -0.1)\">\r\n     <use xlink:href=\"#DejaVuSans-111\"/>\r\n     <use x=\"61.181641\" xlink:href=\"#DejaVuSans-114\"/>\r\n     <use x=\"100.544922\" xlink:href=\"#DejaVuSans-103\"/>\r\n     <use x=\"164.021484\" xlink:href=\"#DejaVuSans-97\"/>\r\n     <use x=\"225.300781\" xlink:href=\"#DejaVuSans-110\"/>\r\n     <use x=\"288.679688\" xlink:href=\"#DejaVuSans-105\"/>\r\n     <use x=\"316.462891\" xlink:href=\"#DejaVuSans-99\"/>\r\n    </g>\r\n   </g>\r\n   <g id=\"text_12\">\r\n    <!-- 5.3% -->\r\n    <g transform=\"translate(69.371298 78.958336)scale(0.1 -0.1)\">\r\n     <use xlink:href=\"#DejaVuSans-53\"/>\r\n     <use x=\"63.623047\" xlink:href=\"#DejaVuSans-46\"/>\r\n     <use x=\"95.410156\" xlink:href=\"#DejaVuSans-51\"/>\r\n     <use x=\"159.033203\" xlink:href=\"#DejaVuSans-37\"/>\r\n    </g>\r\n   </g>\r\n  </g>\r\n </g>\r\n</svg>\r\n",
      "image/png": "[encoded data removed]"
     },
     "metadata": {}
    },
    {
     "output_type": "stream",
     "name": "stdout",
     "text": [
      "                  revenue\ntype                     \nconventional  97628062.60\norganic        5501935.09\n                   revenue\ntype                      \nconventional  1.001680e+08\norganic       6.610215e+06\n                   revenue\ntype                      \nconventional  1.090713e+08\norganic       6.121634e+06\n"
     ]
    }
   ],
   "source": [
    "#Question 3: Which type of avocado is the biggest source of revenue for suppliers? Erica\n",
    "#Include Day (Split-2) column\n",
    "avocadoANDincome_df = renamed_merge.rename(columns={'Split-2':'day'})\n",
    "avocadoANDincome_df = avocadoANDincome_df[['day','month', 'year', 'city', 'average_price', 'total_volume','Per capita personal income', '4046', '4225', '4770', 'type']]\n",
    "#create revenue column\n",
    "avocadoANDincome_df['revenue'] = round(avocadoANDincome_df['average_price']*avocadoANDincome_df['total_volume'], 2)\n",
    "#list of unique cities in data\n",
    "cities = avocadoANDincome_df['city'].unique()\n",
    "cities = cities.tolist()\n",
    "#list of unique years in data\n",
    "years = avocadoANDincome_df['year'].unique()\n",
    "years = years.tolist()\n",
    "years\n",
    "#list of unique types in data\n",
    "types = avocadoANDincome_df['type'].unique()\n",
    "types = types.tolist()\n",
    "#seperate into dataframes for each year\n",
    "typeANDrevenue_2017 = avocadoANDincome_df.loc[avocadoANDincome_df['year']==2017, ['type', 'revenue']]\n",
    "typeANDrevenue_2018 = avocadoANDincome_df.loc[avocadoANDincome_df['year']==2018, ['type', 'revenue']]\n",
    "typeANDrevenue_2019 = avocadoANDincome_df.loc[avocadoANDincome_df['year']==2019, ['type', 'revenue']]\n",
    "#grouping by type\n",
    "grouped_2017 = typeANDrevenue_2017.groupby('type')\n",
    "grouped_2018 = typeANDrevenue_2018.groupby('type')\n",
    "grouped_2019 = typeANDrevenue_2019.groupby('type')\n",
    "#sum of revenues\n",
    "revenues_2017 = grouped_2017.sum()\n",
    "revenues_2018 = grouped_2018.sum()\n",
    "revenues_2019 = grouped_2019.sum()\n",
    "#Task 3: Three pie charts by type (value = revenue) for each year on one png \n",
    "colors = ['lightgreen', 'green']\n",
    "explode = explode = (0.1,0)\n",
    "plt.pie(revenues_2017['revenue'], explode=(0.1,0), labels=types, colors=colors, autopct=\"%1.1f%%\", shadow=True, startangle=140)\n",
    "plt.pie(revenues_2018['revenue'], explode=(0.1,0), labels=types, colors=colors, autopct=\"%1.1f%%\", shadow=True, startangle=140)\n",
    "plt.pie(revenues_2019['revenue'], explode=(0.1,0), labels=types, colors=colors, autopct=\"%1.1f%%\", shadow=True, startangle=140)\n",
    "plt.show()\n",
    "print(revenues_2017)\n",
    "print(revenues_2018)\n",
    "print(revenues_2019)"
   ]
  },
  {
   "cell_type": "code",
   "execution_count": 41,
   "metadata": {},
   "outputs": [],
   "source": [
    "#Question 4: Is there a time of year that sees a spike in revenue? Erica\n",
    "\n",
    "#Task 4: bar chart (x-values months, y-values avocado revenue)"
   ]
  },
  {
   "cell_type": "code",
   "execution_count": 42,
   "metadata": {},
   "outputs": [],
   "source": [
    "#Question 5: How has the average avocado price changed over time?  What is the predicted avocado price for 2021 based on our data?  Bitty\n",
    "\n",
    "#Task 5: scatter plot with regression to predict 2021 average price "
   ]
  },
  {
   "cell_type": "code",
   "execution_count": 43,
   "metadata": {},
   "outputs": [],
   "source": [
    "#Question 6: Do different types of avocados have different price trends? Arianne\n",
    "\n",
    "#Task 6: facet (multiple lines on one) line graph (x-values = year, y-values = average price) for each type"
   ]
  },
  {
   "cell_type": "code",
   "execution_count": 44,
   "metadata": {},
   "outputs": [],
   "source": [
    "#look at volume for 4046\n",
    "plot_4046 = [['4046','year','average_price']]\n"
   ]
  },
  {
   "cell_type": "code",
   "execution_count": 45,
   "metadata": {},
   "outputs": [],
   "source": [
    "#look at volume for 4225\n",
    "plot_4225= [['4225', 'year', 'average_price']]"
   ]
  },
  {
   "cell_type": "code",
   "execution_count": 46,
   "metadata": {},
   "outputs": [],
   "source": [
    "#Look at Volume for 4770\n",
    "plot_4770 = [['4770', 'year', 'average_price']]\n"
   ]
  }
 ]
}