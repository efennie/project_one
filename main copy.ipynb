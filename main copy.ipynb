{
 "metadata": {
  "language_info": {
   "codemirror_mode": {
    "name": "ipython",
    "version": 3
   },
   "file_extension": ".py",
   "mimetype": "text/x-python",
   "name": "python",
   "nbconvert_exporter": "python",
   "pygments_lexer": "ipython3",
   "version": "3.8.5"
  },
  "orig_nbformat": 2,
  "kernelspec": {
   "name": "python385jvsc74a57bd0b75be9ad71603c40476c6c8216298ace4da278de65ecdbf5da31753ceef4d599",
   "display_name": "Python 3.8.5 64-bit ('base': conda)"
  },
  "metadata": {
   "interpreter": {
    "hash": "aee8b7b246df8f9039afb4144a1f6fd8d2ca17a180786b69acc140d282b71a49"
   }
  }
 },
 "nbformat": 4,
 "nbformat_minor": 2,
 "cells": [
  {
   "cell_type": "code",
   "execution_count": null,
   "metadata": {},
   "outputs": [],
   "source": [
    "#import dependencies\n",
    "import numpy as np\n",
    "import pandas as pd\n",
    "import matplotlib.pyplot as plt\n",
    "import calendar\n",
    "import scipy.stats as st\n",
    "from scipy.stats import linregress"
   ]
  },
  {
   "cell_type": "code",
   "execution_count": null,
   "metadata": {},
   "outputs": [],
   "source": [
    "#read initial csv into a dataframe\n",
    "csv_file = 'Main Avocado Tree (Resources)/avocado-updated-2020.csv'\n",
    "avocado_df = pd.read_csv(csv_file)\n",
    "avocado_df\n"
   ]
  },
  {
   "cell_type": "code",
   "execution_count": null,
   "metadata": {},
   "outputs": [],
   "source": [
    "#read income csv into a dataframe\n",
    "csv_income = 'Main Avocado Tree (Resources)/income per metropolitan area.csv'\n",
    "income_df = pd.read_csv(csv_income)\n",
    "income_df.head()"
   ]
  },
  {
   "cell_type": "code",
   "execution_count": null,
   "metadata": {},
   "outputs": [],
   "source": [
    "#Rename columns to match those in Avocado\n",
    "rename_income_df = income_df.rename(columns={\"Geography\": \"geography\", \"Year\":\"year\"})\n",
    "rename_income_df.head()"
   ]
  },
  {
   "cell_type": "code",
   "execution_count": null,
   "metadata": {},
   "outputs": [],
   "source": [
    "#convert date into three columns\n",
    "split_cols = avocado_df['date'].str.split('-',expand=True)\n",
    "split_cols.columns = [f'Split-{i}' for i in range(3)]\n",
    "avocado_df = avocado_df.join(split_cols)\n",
    "#rename splits to day, month\n",
    "avocado_df = avocado_df.rename(columns={'Split-1':'month','Split-2':'day'})\n",
    "#drop Split-0 due to redundancy with year column\n",
    "avocado_df = avocado_df.drop(['Split-0'], axis=1)\n",
    "#better geography match\n",
    "#used https://hassavocadoboard.com/category-data to confirm state match to income data\n",
    "#Drop Cities with same name, wrong state from income data\n",
    "#Drop all Springfields except Springfield MA from income data\n",
    "rename_income_df = rename_income_df.drop(rename_income_df[(rename_income_df['geography'] == 'Springfield') & (rename_income_df['State'] == 'MO')].index)\n",
    "rename_income_df = rename_income_df.drop(rename_income_df[(rename_income_df['geography'] == 'Springfield') & (rename_income_df['State'] == 'IL')].index)\n",
    "rename_income_df = rename_income_df.drop(rename_income_df[(rename_income_df['geography'] == 'Springfield') & (rename_income_df['State'] == 'OH')].index)\n",
    "rename_income_df = rename_income_df.drop(rename_income_df[(rename_income_df['geography'] == 'Eugene-Springfield') & (rename_income_df['State'] == ' OR')].index)\n",
    "#Drop Albanies not NY from income data\n",
    "rename_income_df = rename_income_df.drop(rename_income_df[(rename_income_df['geography'] == 'Albany-Lebanon') & (rename_income_df['State'] == ' OR')].index)\n",
    "rename_income_df = rename_income_df.drop(rename_income_df[(rename_income_df['geography'] == 'Albany') & (rename_income_df['State'] == ' GA')].index)\n",
    "#Drop all Columbuses not OH from income data\n",
    "rename_income_df = rename_income_df.drop(rename_income_df[(rename_income_df['geography'] == 'Columbus') & (rename_income_df['State'] == ' GA-AL')].index)\n",
    "rename_income_df = rename_income_df.drop(rename_income_df[(rename_income_df['geography'] == 'Columbus') & (rename_income_df['State'] == ' IN')].index)\n",
    "#Drop all Jacksonvilles not FL\n",
    "rename_income_df = rename_income_df.drop(rename_income_df[(rename_income_df['geography'] == 'Jacksonville') & (rename_income_df['State'] == ' NC')].index)\n",
    "#Drop all Portlands not OR\n",
    "rename_income_df = rename_income_df.drop(rename_income_df[(rename_income_df['geography'] == 'Portland-South Portland') & (rename_income_df['State'] == ' ME')].index)\n",
    "#Drop all Rochesters not NY\n",
    "rename_income_df = rename_income_df.drop(rename_income_df[(rename_income_df['geography'] == 'Rochester') & (rename_income_df['State'] == ' MN')].index)\n",
    "\n",
    "#text to column cities in income and avocado data\n",
    "columnTOtext1 = rename_income_df['geography'].str.split('-',expand=True)\n",
    "columnTOtext1.columns = [f'geography-{i}' for i in range(4)]\n",
    "new_income = rename_income_df.join(columnTOtext1)\n",
    "new_income = new_income.drop(['geography'], axis=1)\n",
    "columnTOtext = avocado_df['geography'].str.split('/',expand=True)\n",
    "columnTOtext.columns = [f'geography-{i}' for i in range(2)]\n",
    "new_avocado = avocado_df.join(columnTOtext)\n",
    "new_avocado = new_avocado.drop(['geography'], axis=1)\n",
    "\n",
    "#keep rows that only have one city\n",
    "second_cities = new_income['geography-1'].unique()\n",
    "second_cities = second_cities.tolist()\n",
    "del second_cities[0]\n",
    "\n",
    "new_income_first = new_income[~new_income['geography-1'].isin(second_cities)]\n",
    "new_income_first = new_income_first.drop(['geography-1', 'geography-2', 'geography-3'], axis=1)\n",
    "#merge data frame based on new_income_first\n",
    "first = new_avocado.merge(new_income_first, how='inner', on=['geography-0', 'year'])\n",
    "first_geo_0 = first['geography-0'].unique()\n",
    "first_geo_0 = first_geo_0.tolist()\n",
    "first_geo_1 = first['geography-1'].unique()\n",
    "#remove already merged cities from new_avocado\n",
    "new_avocado = new_avocado[~new_avocado['geography-0'].isin(first_geo_0)]\n",
    "#keep rows that only have a two cities\n",
    "new_income_second = new_income.dropna(subset=['geography-1'])\n",
    "new_avocado_second = new_avocado.dropna(subset=['geography-1'])\n",
    "third_cities = new_income_second['geography-2'].unique()\n",
    "third_cities = third_cities.tolist()\n",
    "del third_cities[2]\n",
    "\n",
    "new_income_second = new_income_second[~new_income_second['geography-2'].isin(third_cities)]\n",
    "new_income_second = new_income_second.drop(['geography-2', 'geography-3'], axis=1)\n",
    "\n",
    "#merge data frame based on new_income_second\n",
    "second = new_avocado.merge(new_income_second, how='inner', on=['geography-0', 'year'])\n",
    "second = second.drop(['geography-1_y'], axis=1)\n",
    "second = second.rename(columns={'geography-1_x':'geography-1'})\n",
    "second_geo_0 = second['geography-0'].unique()\n",
    "second_geo_0 = second_geo_0.tolist()\n",
    "#remove already merged cities\n",
    "new_avocado = new_avocado[~new_avocado['geography-0'].isin(second_geo_0)]\n",
    "#keep rows that only have a three cities\n",
    "new_income_third = new_income.dropna(subset=['geography-2'])\n",
    "fourth_cities = new_income_third['geography-3'].unique()\n",
    "fourth_cities = fourth_cities.tolist()\n",
    "del fourth_cities[0]\n",
    "\n",
    "new_income_third = new_income_third[~new_income_third['geography-3'].isin(fourth_cities)]\n",
    "new_income_third = new_income_third.drop(['geography-3'], axis=1)\n",
    "\n",
    "#merge dataframes\n",
    "third = new_avocado.merge(new_income_third, how='inner', on=['geography-0', 'year'])\n",
    "third = third.drop(['geography-1_y', 'geography-2'], axis=1)\n",
    "third = third.rename(columns={'geography-1_x':'geography-1'})\n",
    "third_geo_0 = third['geography-0'].unique()\n",
    "third_geo_0 = third_geo_0.tolist()\n",
    "#remove already merged cities\n",
    "new_avocado = new_avocado[~new_avocado['geography-0'].isin(third_geo_0)]\n",
    "#keep rows that only have a four cities\n",
    "new_income_fourth = new_income.dropna(subset=['geography-3'])\n",
    "\n",
    "#merge dataframes\n",
    "fourth = new_avocado.merge(new_income_fourth, how='inner', on=['geography-0', 'year'])\n",
    "fourth = fourth.drop(['geography-1_y', 'geography-2', 'geography-3'], axis=1)\n",
    "fourth = fourth.rename(columns={'geography-1_x':'geography-1'})\n",
    "\n",
    "#combine merged dataframes into one\n",
    "income_avocado = first.append(second)\n",
    "income_avocado = income_avocado.append(third)\n",
    "income_avocado = income_avocado.append(fourth)\n",
    "\n",
    "#get list of cities in dataframe\n",
    "unique_cities = income_avocado['geography-0'].unique()\n",
    "unique_cities = unique_cities.tolist()\n",
    "income_avocado.reset_index()\n",
    "income_avocado\n",
    "\n",
    "\n",
    "\n",
    "\n"
   ]
  },
  {
   "cell_type": "code",
   "execution_count": null,
   "metadata": {},
   "outputs": [],
   "source": [
    "grouped_by_month_year = pd.DataFrame(income_avocado.groupby([\"year\", \"month\"]).mean().round(2))\n",
    "grouped_by_month_year"
   ]
  },
  {
   "cell_type": "code",
   "execution_count": null,
   "metadata": {},
   "outputs": [],
   "source": [
    "grouped_year_city = pd.DataFrame(income_avocado.groupby([\"geography-0\", \"year\"]).mean().round(2))\n",
    "grouped_year_city"
   ]
  },
  {
   "cell_type": "code",
   "execution_count": null,
   "metadata": {},
   "outputs": [],
   "source": [
    "# Question 1: Which cities love avocados most? Arianne\n",
    "grouped_year_city['total_volume'].unstack().plot(kind='bar', color=('lightgreen', 'mediumspringgreen', 'mediumseagreen'))\n",
    "plt.xlabel(\"City\")\n",
    "plt.xticks(rotation=90)\n",
    "plt.ylabel(\"Volume Purchased\")\n",
    "plt.title(\"Cities Who Love Avocados by Volume purchased\")\n",
    "plt.savefig(\"Output/Cities_who_love_Avocados.png\")\n",
    "plt.show()\n",
    "#Task 1: popularity of avocado bar graph of volume purchased per city "
   ]
  },
  {
   "cell_type": "code",
   "execution_count": null,
   "metadata": {},
   "outputs": [],
   "source": [
    "Bad_year= [2017, 2018]\n",
    "Only_2019 = income_avocado[~income_avocado['year'].isin(Bad_year)]\n",
    "Only_2019"
   ]
  },
  {
   "cell_type": "code",
   "execution_count": null,
   "metadata": {},
   "outputs": [],
   "source": [
    "Only_2019 = Only_2019.rename(columns={\"geography-0\":\"city\"})"
   ]
  },
  {
   "cell_type": "code",
   "execution_count": null,
   "metadata": {},
   "outputs": [],
   "source": [
    "essential_2019 = Only_2019[['city', 'total_volume']]\n",
    "essential_2019"
   ]
  },
  {
   "cell_type": "code",
   "execution_count": null,
   "metadata": {},
   "outputs": [],
   "source": [
    "essential_2019.groupby(['city']).sum().plot(kind='bar', color='forestgreen')\n",
    "plt.xlabel(\"City\")\n",
    "plt.xticks(rotation=90)\n",
    "plt.ylabel(\"Volume Purchased\")\n",
    "plt.title(\"Cities Who Love Avocados by Volume purchased 2019\")\n",
    "plt.savefig(\"Output/2019_loves_only.png\")\n",
    "plt.show()"
   ]
  },
  {
   "cell_type": "code",
   "execution_count": null,
   "metadata": {},
   "outputs": [],
   "source": [
    "#read initial csv into a dataframe\n",
    "csv_file2 = 'Main Avocado Tree (Resources)/worldcities.csv'\n",
    "pop_df = pd.read_csv(csv_file2)\n",
    "pop_df"
   ]
  },
  {
   "cell_type": "code",
   "execution_count": null,
   "metadata": {},
   "outputs": [],
   "source": [
    "#Merge the two dataframes together on Geography and year\n",
    "\n",
    "avocado_pop = pd.merge(Only_2019, pop_df, on=['city'], how='inner')\n",
    "avocado_pop"
   ]
  },
  {
   "cell_type": "code",
   "execution_count": null,
   "metadata": {},
   "outputs": [],
   "source": [
    "cleaned_avocado_pop = avocado_pop[['month', 'year', 'city', 'population', 'average_price', 'total_volume', '4046', '4225', '4770', 'type']]\n",
    "cleaned_avocado_pop"
   ]
  },
  {
   "cell_type": "code",
   "execution_count": null,
   "metadata": {},
   "outputs": [],
   "source": [
    "#first look at population sizes:\n",
    "essential_population = cleaned_avocado_pop[[\"city\", \"population\"]]\n",
    "essential_population.groupby(['city']).sum().plot(kind='bar', color='limegreen')\n",
    "plt.xlabel(\"City\")\n",
    "plt.xticks(rotation=90)\n",
    "plt.ylabel(\"Volume Purchased\")\n",
    "plt.title(\"2019 Population for Avocado loving-Cities\")\n",
    "plt.savefig(\"Output/2019_Population.png\")\n",
    "plt.show()"
   ]
  },
  {
   "cell_type": "code",
   "execution_count": null,
   "metadata": {},
   "outputs": [],
   "source": [
    "unique = essential_2019['city'].unique()\n",
    "unique"
   ]
  },
  {
   "cell_type": "code",
   "execution_count": null,
   "metadata": {},
   "outputs": [],
   "source": [
    "#Side by side comparison\n",
    "ax = essential_2019.groupby(['city']).sum().plot(color='forestgreen')\n",
    "essential_population.groupby(['city']).sum().plot(color='limegreen', ax=ax)\n",
    "plt.xlabel(\"City\")\n",
    "plt.xticks(np.arange(len(unique)), unique, rotation=90)\n",
    "plt.ylabel(\"Volume\")\n",
    "plt.title(\"Population Comparison VS Volume of Avocados Sold\")\n",
    "plt.savefig(\"Output/2019_comparison.png\")\n",
    "\n",
    "plt.show()"
   ]
  },
  {
   "cell_type": "code",
   "execution_count": null,
   "metadata": {},
   "outputs": [],
   "source": [
    "#Question 2: Do states with higher income per capita buy more avocados? (income per capita from 2017-2019) Erica\n",
    "income_avocado_g = income_avocado.groupby(['geography-0', 'year'])\n",
    "purchased = income_avocado_g['total_volume'].mean()\n",
    "income = income_avocado_g['Per capita personal income'].mean()\n",
    "\n",
    "x_values = income\n",
    "y_values = purchased\n",
    "(slope, intercept, rvalue, pvalue, stderr) = st.mstats.linregress(x_values, y_values)\n",
    "regress_values = x_values*slope + intercept\n",
    "line_eq = \"y = \" +str(round(slope,2)) + \"x + \" + str(round(intercept, 2))\n",
    "fig, ax1 = plt.subplots()\n",
    "ax1.scatter(x_values, y_values, color='green')\n",
    "ax1.plot(x_values, regress_values, color='brown')\n",
    "ax1.annotate(line_eq,(70000,3000000),fontsize=15,color=\"darkgreen\")\n",
    "ax1.ticklabel_format(useOffset=False, style='plain')\n",
    "ax1.set_xlabel('Income Per Capita')\n",
    "ax1.set_ylabel('Avocados Purchased')\n",
    "\n",
    "\n",
    "fig.set_size_inches(7, 6)\n",
    "plt.show()\n",
    "fig.savefig('./Output/IncomevsVolume.png')\n",
    "correlation = st.mstats.pearsonr(income, purchased)\n",
    "print(f\"The correlation between both factors is {round(correlation[0], 2)}\")\n",
    "\n",
    "\n",
    "#Task 2: line graph (x-values states, y-values income per capita and avocado revenue) "
   ]
  },
  {
   "cell_type": "code",
   "execution_count": null,
   "metadata": {},
   "outputs": [],
   "source": [
    "#Question 3: Which type of avocado is the biggest source of revenue for suppliers? Erica\n",
    "\n",
    "#create revenue column\n",
    "income_avocado['revenue'] = round(income_avocado['average_price']*income_avocado['total_volume'], 2)\n",
    "\n",
    "#list of unique years in data\n",
    "years = income_avocado['year'].unique()\n",
    "years = years.tolist()\n",
    "years\n",
    "#list of unique types in data\n",
    "types = income_avocado['type'].unique()\n",
    "types = types.tolist()\n",
    "#seperate into dataframes for each year\n",
    "typeANDrevenue_2017 = income_avocado.loc[income_avocado['year']==2017, ['type', 'revenue']]\n",
    "typeANDrevenue_2018 = income_avocado.loc[income_avocado['year']==2018, ['type', 'revenue']]\n",
    "typeANDrevenue_2019 = income_avocado.loc[income_avocado['year']==2019, ['type', 'revenue']]\n",
    "#grouping by type\n",
    "grouped_2017 = typeANDrevenue_2017.groupby('type')\n",
    "grouped_2018 = typeANDrevenue_2018.groupby('type')\n",
    "grouped_2019 = typeANDrevenue_2019.groupby('type')\n",
    "#sum of revenues\n",
    "revenues_2017 = grouped_2017.sum()\n",
    "revenues_2018 = grouped_2018.sum()\n",
    "revenues_2019 = grouped_2019.sum()\n",
    "#Task 3: Three pie charts by type (value = revenue) for each year on one png \n",
    "colors = ['green', 'lightgreen']\n",
    "explode = explode = (0.1,0)\n",
    "#create subplots\n",
    "figure, (ax1, ax2, ax3) = plt.subplots(1,3,subplot_kw={'aspect':'equal'})\n",
    "ax1.pie(revenues_2017['revenue'], explode=(0.1,0), labels=types, colors=colors, autopct=\"%1.1f%%\", shadow=True, startangle=140)\n",
    "ax2.pie(revenues_2018['revenue'], explode=(0.1,0), labels=types, colors=colors, autopct=\"%1.1f%%\", shadow=True, startangle=140)\n",
    "ax3.pie(revenues_2019['revenue'], explode=(0.1,0), labels=types, colors=colors, autopct=\"%1.1f%%\", shadow=True, startangle=140)\n",
    "#format\n",
    "ax1.set_xlabel('2017')\n",
    "ax2.set_xlabel('2018')\n",
    "ax3.set_xlabel('2019')\n",
    "ax2.set_title(\"Proportions of Revenue by Avocado Type for Each Year\")\n",
    "\n",
    "plt.show()\n",
    "fig.savefig('./Output/RevenueByTypeByYear.png')"
   ]
  },
  {
   "cell_type": "code",
   "execution_count": null,
   "metadata": {},
   "outputs": [],
   "source": [
    "#Question 4: Is there a time of year that sees a spike in revenue? Erica\n",
    "#create a list of months for setting the month column as categorical type\n",
    "#'January', 'February', 'March', 'April', 'May', 'June', 'July', 'August', 'September', 'October', 'November', 'December']\n",
    "#use calendar import to map month names to corresponding integer \n",
    "income_avocado.sort_values(by=\"date\")\n",
    "income_avocado.reset_index()\n",
    "income_avocado['month'] = pd.to_numeric(income_avocado['month'])\n",
    "income_avocado['day'] = pd.to_numeric(income_avocado['day'])\n",
    "income_avocado['month'] = income_avocado[\"month\"].apply(lambda x: calendar.month_abbr[x])\n",
    "months = income_avocado['month'].unique()\n",
    "months = months.tolist()\n",
    "#make categorical, so column can be sorted by index of months list\n",
    "income_avocado['month'] = pd.Categorical(income_avocado['month'], categories=months)\n",
    "\n",
    "#pivot data, so there's a column for each month, each row has year and sum of revenue column\n",
    "pd.options.display.float_format = '{:, .2f}'.format\n",
    "income_avocado_pivot = pd.pivot_table(income_avocado, values='revenue', index='year', columns='month', aggfunc=np.sum)\n",
    "\n",
    "#plot a bar chart using the pivoted data\n",
    "ax1 = income_avocado_pivot.plot(kind=\"bar\")\n",
    "#get a Matplotlib figure from the axes object for formatting purposes\n",
    "fig = ax1.get_figure()\n",
    "#change the plot dimensions (width, height)\n",
    "fig.set_size_inches(7, 6)\n",
    "#change the axes labels\n",
    "#ax1.ticklabel_format(useOffset=False, style='plain')\n",
    "ax1.set_xlabel(\"Years\")\n",
    "ax1.set_ylabel(\"Total Revenues Per Month ($100 Millions)\")\n",
    "ax1.legend(fancybox=True, bbox_to_anchor=(1.05, 1.0), loc='upper left')\n",
    "ax1.grid(True)\n",
    "# Use this to show the plot in a new window\n",
    "plt.show()\n",
    "# Export the plot as a PNG file\n",
    "fig.savefig('./Output/RevenueByMonthByYear.png')\n",
    "#Task 4: bar chart (x-values months, y-values avocado revenue)"
   ]
  },
  {
   "cell_type": "code",
   "execution_count": null,
   "metadata": {},
   "outputs": [],
   "source": [
    "#Question 5: How has the average avocado price changed over time?  What is the predicted avocado price for 2021 based on our data? Bitty\n",
    "#group data by year and create year specific dataframes\n",
    "data_2017 = income_avocado[income_avocado[\"year\"] == 2017]\n",
    "month_2017 = pd.DataFrame(data_2017)\n",
    "month_2017 = pd.DataFrame(data_2017.groupby([\"month\"]).mean().round(2))\n",
    "months_list = [1,2,3,4,5,6,7,8,9,10,11,12]\n",
    "month_2017['month'] = months_list\n",
    "month_2017 = month_2017[[\"year\", \"average_price\", \"month\"]]\n",
    "month_2017\n",
    "\n",
    "#Task 5: scatter plot with regression to predict 2021 average price "
   ]
  },
  {
   "cell_type": "code",
   "execution_count": null,
   "metadata": {},
   "outputs": [],
   "source": [
    "#group data by year and create year specific dataframes\n",
    "data_2018 = income_avocado[income_avocado[\"year\"] == 2018]\n",
    "month_2018 = pd.DataFrame(data_2018)\n",
    "month_2018 = pd.DataFrame(data_2018.groupby([\"month\"]).mean().round(2))\n",
    "months_list = [1,2,3,4,5,6,7,8,9,10,11,12]\n",
    "month_2018['month'] = months_list\n",
    "month_2018 = month_2018[[\"year\", \"average_price\", \"month\"]]\n",
    "month_2018"
   ]
  },
  {
   "cell_type": "code",
   "execution_count": null,
   "metadata": {},
   "outputs": [],
   "source": [
    "data_2019 = income_avocado[income_avocado[\"year\"] == 2019]\n",
    "month_2019 = pd.DataFrame(data_2019)\n",
    "month_2019 = pd.DataFrame(data_2019.groupby([\"month\"]).mean().round(2))\n",
    "months_list = [1,2,3,4,5,6,7,8,9,10,11,12]\n",
    "month_2019['month'] = months_list\n",
    "month_2019 = month_2019[[\"year\", \"average_price\", \"month\"]]\n",
    "month_2019"
   ]
  },
  {
   "cell_type": "code",
   "execution_count": null,
   "metadata": {},
   "outputs": [],
   "source": [
    "#look at bar graphs comparing months\n",
    "n = 12\n",
    "width = 0.3\n",
    "month_names2 = np.arange(n)\n",
    "\n",
    "bar_2017 = month_2017[\"average_price\"]\n",
    "bar_2018 = month_2018[\"average_price\"]\n",
    "bar_2019 = month_2019[\"average_price\"]\n",
    "\n",
    "fig = plt.figure()\n",
    "ax = fig.add_subplot(111)\n",
    "rects1 = ax.bar(month_names2+width, bar_2017, width, color='royalblue')\n",
    "rects2 = ax.bar(month_names2+width, bar_2018, width, color='seagreen')\n",
    "rects3 = ax.bar(month_names2+width, bar_2019, width, color='g')\n",
    "plt.ylabel('Average Price (dollars)')\n",
    "plt.title('Average Avocado Price vs. Month')\n",
    "labels = ('2017', '2018', '2019')\n",
    "plt.legend(labels=labels,loc='best')\n",
    "plt.xticks(month_names2 + width / 2, ('January', 'February', 'March', 'April', 'May', 'June', 'July', 'August', 'September', 'October', 'November', 'December'), rotation=90)\n",
    "plt.savefig('Output/question5graphics.png')\n",
    "plt.show()"
   ]
  },
  {
   "cell_type": "code",
   "execution_count": null,
   "metadata": {},
   "outputs": [],
   "source": [
    "#create a bar graph comparing prices over the years\n",
    "df = pd.DataFrame({'2017':bar_2017, '2018':bar_2018, '2019':bar_2019})\n",
    "df.plot(kind='bar', stacked=False)\n",
    "plt.title('Average Avocado Price vs. Month')\n",
    "plt.ylabel('Price (dollars)')"
   ]
  },
  {
   "cell_type": "code",
   "execution_count": null,
   "metadata": {},
   "outputs": [],
   "source": [
    "#create a bar graph for prices vs. month 2017\n",
    "plt.bar(month_2017['month'], month_2017['average_price'], color='green', alpha=0.75)\n",
    "plt.title('Average Avocado Price vs. Month 2017')\n",
    "plt.ylabel('Price (dollars)')\n",
    "plt.xlabel('months')\n",
    "plt.savefig('Output/question5graphics1.png')\n",
    "plt.show()"
   ]
  },
  {
   "cell_type": "code",
   "execution_count": null,
   "metadata": {},
   "outputs": [],
   "source": [
    "#create a bar graph for prices vs. month 2018\n",
    "plt.bar(month_2018['month'], month_2018['average_price'], color='green', alpha=0.6)\n",
    "plt.title('Average Avocado Price vs. Month 2018')\n",
    "plt.ylabel('Price (dollars)')\n",
    "plt.xlabel('months')\n",
    "plt.savefig('Output/question5graphics2.png')\n",
    "plt.show()"
   ]
  },
  {
   "cell_type": "code",
   "execution_count": null,
   "metadata": {},
   "outputs": [],
   "source": [
    "plt.bar(month_2019['month'], month_2019['average_price'], color='green', alpha=0.5)\n",
    "plt.title('Average Avocado Price vs. Month 2019')\n",
    "plt.ylabel('Price (dollars)')\n",
    "plt.xlabel('months')\n",
    "plt.savefig('Output/question5graphics3.png')\n",
    "plt.show()"
   ]
  },
  {
   "cell_type": "code",
   "execution_count": null,
   "metadata": {},
   "outputs": [],
   "source": [
    "#show all scatter plots of year vs. average prices\n",
    "plt.scatter(month_2017['month'], month_2017['average_price'])\n",
    "plt.scatter(month_2018['month'], month_2018['average_price'])\n",
    "plt.scatter(month_2019['month'], month_2019['average_price'])\n",
    "plt.title('Average Price of Avocados vs. Months 2017-2019')\n",
    "plt.xlabel('Months 2017-2019')\n",
    "plt.ylabel('average price ($)')\n",
    "plt.grid()\n",
    "labels= ('2017', '2018', '2019')\n",
    "plt.legend(labels=labels,loc='best')\n",
    "plt.savefig('Output/question5graphicsscatter.png')\n",
    "plt.show()"
   ]
  },
  {
   "cell_type": "code",
   "execution_count": null,
   "metadata": {},
   "outputs": [],
   "source": [
    "#linear regress 2017\n",
    "x_values = month_2017['month']\n",
    "y_values = month_2017['average_price']\n",
    "(slope, intercept, rvalue, pvalue, stderr) = st.linregress(x_values, y_values)\n",
    "\n",
    "line_eq = \"y= \" + str(round(slope,4)) + \"x + \" + str(round(intercept,2))\n",
    "\n",
    "res = st.linregress(month_2017['month'], month_2017['average_price'])\n",
    "print(f'The r-squared value is: {res.rvalue**2}')\n",
    "print(f'The r-value is: {res.rvalue}')\n",
    "\n",
    "plt.scatter(month_2017['month'], month_2017['average_price'], edgecolors='black')\n",
    "plt.title('Average Price of Avocados vs. Months 2017')\n",
    "plt.xlabel('Months in 2017')\n",
    "plt.ylabel('average price ($)')\n",
    "plt.grid()\n",
    "plt.annotate(line_eq, (2,1.7), fontsize=12, color='red')\n",
    "plt.plot(month_2017['month'], res.intercept + res.slope*month_2017['month'], 'r', label='fitted line')\n",
    "plt.savefig('Output/question5graphicsscatter2017.png')\n",
    "plt.show()"
   ]
  },
  {
   "cell_type": "code",
   "execution_count": null,
   "metadata": {},
   "outputs": [],
   "source": [
    "#linear regress 2018\n",
    "x_values = month_2018['month']\n",
    "y_values = month_2018['average_price']\n",
    "(slope, intercept, rvalue, pvalue, stderr) = st.linregress(x_values, y_values)\n",
    "\n",
    "line_eq = \"y= \" + str(round(slope,4)) + \"x + \" + str(round(intercept,2))\n",
    "\n",
    "res = st.linregress(month_2018['month'], month_2018['average_price'])\n",
    "print(f'The r-squared value is: {res.rvalue**2}')\n",
    "print(f'The r-value is: {res.rvalue}')\n",
    "\n",
    "plt.scatter(month_2018['month'], month_2018['average_price'], edgecolors='black')\n",
    "plt.title('Average Price of Avocados vs. Months 2018')\n",
    "plt.xlabel('Months in 2018')\n",
    "plt.ylabel('average price ($)')\n",
    "plt.grid()\n",
    "plt.annotate(line_eq, (2,1.40), fontsize=12, color='red')\n",
    "plt.plot(month_2018['month'], res.intercept + res.slope*month_2018['month'], 'r', label='fitted line')\n",
    "plt.savefig('Output/question5graphicsscatter2018.png')\n",
    "plt.show()"
   ]
  },
  {
   "cell_type": "code",
   "execution_count": null,
   "metadata": {},
   "outputs": [],
   "source": [
    "#linear regress 2019\n",
    "#Task 5: scatter plot with regression to predict 2021 average price \n",
    "x_values = month_2019['month']\n",
    "y_values = month_2019['average_price']\n",
    "(slope, intercept, rvalue, pvalue, stderr) = st.linregress(x_values, y_values)\n",
    "desired_prediction_month = 5\n",
    "line_eq = \"y= \" + str(round(slope,4)) + \"x + \" + str(round(intercept,2))\n",
    "\n",
    "res = st.linregress(month_2019['month'], month_2019['average_price'])\n",
    "print(f'The r-squared value is: {res.rvalue**2}')\n",
    "print(f'The r-value is: {res.rvalue}')\n",
    "print(f'Based on our linear regression we expect avocados to cost $ {round((res.slope*desired_prediction_month) + res.intercept, 2)} in May 2021')\n",
    "plt.scatter(month_2019['month'], month_2019['average_price'], edgecolors='black')\n",
    "plt.title('Average Price of Avocados vs. Months 2019')\n",
    "plt.xlabel('Months in 2019')\n",
    "plt.ylabel('average price ($)')\n",
    "plt.grid()\n",
    "plt.annotate(line_eq, (2,1.6), fontsize=12, color='red')\n",
    "plt.plot(month_2019['month'], res.intercept + res.slope*month_2019['month'], 'r', label='fitted line')\n",
    "plt.savefig('Output/question5graphicsscatter2019.png')\n",
    "plt.show()"
   ]
  },
  {
   "cell_type": "code",
   "execution_count": null,
   "metadata": {},
   "outputs": [],
   "source": []
  },
  {
   "cell_type": "code",
   "execution_count": null,
   "metadata": {},
   "outputs": [],
   "source": [
    "#Question 6: Do different types of avocados have different price trends? Arianne\n",
    "\n",
    "#Task 6: facet (multiple lines on one) line graph (x-values = year, y-values = average price) for each type"
   ]
  },
  {
   "cell_type": "code",
   "execution_count": null,
   "metadata": {},
   "outputs": [],
   "source": [
    "#look at volume for 4046\n",
    "grouped_by_month_year['4046'].plot(marker='^', color='forestgreen')\n",
    "plt.xlabel(\"Month by Year\")\n",
    "plt.xticks(rotation=45)\n",
    "plt.ylabel(\"Volume of items purchased\")\n",
    "plt.title(\"Volume over time for PLU 4046\")\n",
    "plt.savefig(\"Output/PLU4046.png\")\n",
    "plt.show()"
   ]
  },
  {
   "cell_type": "code",
   "execution_count": null,
   "metadata": {},
   "outputs": [],
   "source": [
    "#look at volume for 4225\n",
    "grouped_by_month_year['4225'].plot(marker='8', color='lime')\n",
    "plt.xlabel(\"Month by Year\")\n",
    "plt.xticks(rotation=45)\n",
    "plt.ylabel(\"Volume of items purchased\")\n",
    "plt.title(\"Volume over time for PLU 4225\")\n",
    "plt.savefig(\"Output/PLU4225.png\")\n",
    "plt.show()"
   ]
  },
  {
   "cell_type": "code",
   "execution_count": null,
   "metadata": {},
   "outputs": [],
   "source": [
    "#Look at Volume for 4770\n",
    "grouped_by_month_year['4770'].plot(marker='d', color='mediumseagreen')\n",
    "plt.xlabel(\"Month by Year\")\n",
    "plt.xticks(rotation=45)\n",
    "plt.ylabel(\"Volume of items purchased\")\n",
    "plt.title(\"Volume over time for PLU 4770\")\n",
    "plt.savefig(\"Output/PLU4770.png\")\n",
    "plt.show()"
   ]
  },
  {
   "cell_type": "code",
   "execution_count": null,
   "metadata": {},
   "outputs": [],
   "source": [
    "#Combine single charts into one main comparison chart\n",
    "grouped_by_month_year['4046'].plot(marker='^', color='forestgreen')\n",
    "grouped_by_month_year['4225'].plot(marker='8', color='lime')\n",
    "grouped_by_month_year['4770'].plot(marker='d', color='mediumseagreen')\n",
    "plt.legend()\n",
    "plt.title(\"Volume Comparison over PLU\")\n",
    "plt.xlabel(\"Month by Year\")\n",
    "plt.xticks(rotation=45)\n",
    "plt.ylabel(\"Volume of Items purchased\")\n",
    "plt.savefig(\"Output/combined_volume.png\")\n",
    "plt.show()"
   ]
  }
 ]
}